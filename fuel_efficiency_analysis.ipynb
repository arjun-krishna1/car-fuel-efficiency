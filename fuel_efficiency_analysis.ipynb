{
  "nbformat": 4,
  "nbformat_minor": 0,
  "metadata": {
    "colab": {
      "name": "fuel-efficiency-analysis.ipynb",
      "provenance": [],
      "collapsed_sections": [],
      "toc_visible": true,
      "authorship_tag": "ABX9TyOCMBpp5QJAIgRLExrUxUJU",
      "include_colab_link": true
    },
    "kernelspec": {
      "name": "python3",
      "display_name": "Python 3"
    }
  },
  "cells": [
    {
      "cell_type": "markdown",
      "metadata": {
        "id": "view-in-github",
        "colab_type": "text"
      },
      "source": [
        "<a href=\"https://colab.research.google.com/github/arjun-krishna1/car-fuel-efficiency/blob/main/fuel_efficiency_analysis.ipynb\" target=\"_parent\"><img src=\"https://colab.research.google.com/assets/colab-badge.svg\" alt=\"Open In Colab\"/></a>"
      ]
    },
    {
      "cell_type": "markdown",
      "metadata": {
        "id": "pxtHpf9Zj_gh"
      },
      "source": [
        "# Results\n",
        "0. The most fuel efficient car would be an electric small station wagon with manual transmission and front wheel drive\n",
        "  - According to this analysis\n",
        "1. The average fuel range of cars has increased by 9% from 1984 to 2020.\n",
        "2. The percentage of alternative fuel vehicles(electric, bio-fuel and etcetera) increased by 12% from 1984 to 2020.\n",
        "  - This is likely one of the reasons that fuel economy is increasing with time.\n",
        "  - The increasing popularity of alternative fuel vehicles is surprising as it is quite drastic.\n",
        "3. The government incentives and metrics included in this dataset  (green house gases score and gas guzzler tax) correlate with fuel efficiency so they are effective metrics to measure fuel efficiency.\n",
        "  - The feScore, ghgScore and guzzler Tax should deter people from wasteful vehicles and encourage them to use efficient ones\n",
        "4. Tesla is the manufacturer with the highest average fuel range.\n"
      ]
    },
    {
      "cell_type": "markdown",
      "metadata": {
        "id": "a6P8eauOd_Jy"
      },
      "source": [
        "# Introduction\n",
        "1. This is an analysis of a car fuel efficiency dataset\n",
        "2. The goal of this analysis is to gain insights into what types of cars are most fuel efficient and use this information to design cars with better fuel efficiency\n",
        "3. To do this we will be answering these questions: \n",
        "  - Which manufacturer produces the most fuel efficient fleet of cars?\n",
        "  - What design features improve a car's fuel efficiency the most?\n",
        "  - What are the trends in vehicle design over time?\n",
        "3. Data Source: 'Datasets for All Model Years (1984–Present)' located at 'https://www.fueleconomy.gov/feg/epadata/vehicles.csv.zip'\n",
        "\n",
        "# Summary of Results\n",
        "1. Tesla is the manufacturer with the most fuel efficient fleet of cars\n",
        "  - Tesla: 138 mpg\n",
        "  - Average: 29 mpg\n",
        "  - This is the range that a car can drive while using the same amount of energy\n",
        "  - A Tesla can drive much further (100 miles further) per gallon than the average car\n",
        "2. These are the best design choices to improve fuel efficiency:\n",
        "  - Fuel: Electric\n",
        "  - Transmission: Manual Transmission\n",
        "  - Vehicle Type: Small station wagon\n",
        "  - Engine and Transmission Layout: Front-wheel drive\n",
        "1. Fuel economy has increased by 9% since 1984 to today\n",
        "2. The percentage of alternative fuel vehicles, electric, hybrid and etcetera, has increased by 12%\n",
        "3. Government incentives and metrics:\n",
        "  - The fuel economy Score (feScore), and Greenhouse Gases Score (ghgScore) have a strong positively correlation and the guzzler tax has a weak negative correlation to UCity\n",
        "  - This means that these government programs are doing their job well\n",
        "  - The feScore, ghgScore and guzzler Tax should deter people from wasteful vehicles and encourage them to use efficient ones\n",
        "\n"
      ]
    },
    {
      "cell_type": "markdown",
      "metadata": {
        "id": "n6rVNXFYKm6_"
      },
      "source": [
        "## Load Data\n"
      ]
    },
    {
      "cell_type": "code",
      "metadata": {
        "id": "0hlxPD2NHsJ5",
        "colab": {
          "base_uri": "https://localhost:8080/"
        },
        "outputId": "2681b23d-0121-4217-d893-3ea351c931ab"
      },
      "source": [
        "# Import data\n",
        "import pandas as pd\n",
        "url = \"https://www.fueleconomy.gov/feg/epadata/vehicles.csv.zip\"\n",
        "raw_data = pd.read_csv(url)\n",
        "print(\"Size: \", raw_data.shape)   "
      ],
      "execution_count": null,
      "outputs": [
        {
          "output_type": "stream",
          "text": [
            "Size:  (43156, 83)\n"
          ],
          "name": "stdout"
        },
        {
          "output_type": "stream",
          "text": [
            "/usr/local/lib/python3.6/dist-packages/IPython/core/interactiveshell.py:2718: DtypeWarning: Columns (70,71,72,73,74,76,79) have mixed types.Specify dtype option on import or set low_memory=False.\n",
            "  interactivity=interactivity, compiler=compiler, result=result)\n"
          ],
          "name": "stderr"
        }
      ]
    },
    {
      "cell_type": "markdown",
      "metadata": {
        "id": "Cz4L-5weczc3"
      },
      "source": [
        "# 1. Which manufacturer produces the most fuel efficient fleet of cars?\n",
        "Tesla makes the most fuel efficient fleet of cars\n"
      ]
    },
    {
      "cell_type": "markdown",
      "metadata": {
        "id": "zKcxjLivswS2"
      },
      "source": [
        "## Introduction\n"
      ]
    },
    {
      "cell_type": "markdown",
      "metadata": {
        "id": "KG_aC3_wu44-"
      },
      "source": [
        "## Assumptions\n",
        "1. The manufacturer with the most fuel efficient fleet of cars is the one with the best average fuel economy across all of its models\n",
        "2. Each model is produced in equal numbers\n",
        "3. Miles driven in the city and on the highway are equal"
      ]
    },
    {
      "cell_type": "markdown",
      "metadata": {
        "id": "X60icTCOthZ_"
      },
      "source": [
        "\n",
        "\n",
        "## Which data matters for this?\n",
        "1. UCity : City Miles per Gallon (MPG)\n",
        "2. UHighway : Highway MPG\n",
        "3. make : manufacturer\n",
        "\n",
        "## Why do these properties matter?\n",
        "1. The UCity and UHighway values will tell us the fuel economy of each car\n",
        "2. The make will tell us which manufacturer mad it\n",
        "3. We can use this information to find the average fuel economy of each manufacturer\n",
        "4. This will tell us which manufacturer produces the most fuel-efficient fleet of cars"
      ]
    },
    {
      "cell_type": "markdown",
      "metadata": {
        "id": "WtIkNWSMtpoM"
      },
      "source": [
        "## Plan\n"
      ]
    },
    {
      "cell_type": "markdown",
      "metadata": {
        "id": "HDAmn5Trts8q"
      },
      "source": [
        "1. Extract the needed columns and store in a new dataframe\n",
        "2. Find the the names of all of the manufacturers\n",
        "3. Find the average fuel economy of each manufacturer\n",
        "4. Store the average fuel economy of each manufacturer with the manufacturer name\n",
        "5. Find the manufacturer with the lowest fuel economy"
      ]
    },
    {
      "cell_type": "markdown",
      "metadata": {
        "id": "WrOgw_tZtQJA"
      },
      "source": [
        "## Code"
      ]
    },
    {
      "cell_type": "code",
      "metadata": {
        "id": "cdm-bmjqcKhr",
        "colab": {
          "base_uri": "https://localhost:8080/",
          "height": 206
        },
        "outputId": "27fb0648-f50a-4655-8a5f-6b67345cb9a4"
      },
      "source": [
        "\"\"\"\n",
        "0. Extract the needed columns and store in a new dataframe\n",
        "\"\"\"\n",
        "efficiency_data = raw_data.loc[:,[\"UCity\", \"UHighway\",\"make\"]]\n",
        "efficiency_data.head()"
      ],
      "execution_count": null,
      "outputs": [
        {
          "output_type": "execute_result",
          "data": {
            "text/html": [
              "<div>\n",
              "<style scoped>\n",
              "    .dataframe tbody tr th:only-of-type {\n",
              "        vertical-align: middle;\n",
              "    }\n",
              "\n",
              "    .dataframe tbody tr th {\n",
              "        vertical-align: top;\n",
              "    }\n",
              "\n",
              "    .dataframe thead th {\n",
              "        text-align: right;\n",
              "    }\n",
              "</style>\n",
              "<table border=\"1\" class=\"dataframe\">\n",
              "  <thead>\n",
              "    <tr style=\"text-align: right;\">\n",
              "      <th></th>\n",
              "      <th>UCity</th>\n",
              "      <th>UHighway</th>\n",
              "      <th>make</th>\n",
              "    </tr>\n",
              "  </thead>\n",
              "  <tbody>\n",
              "    <tr>\n",
              "      <th>0</th>\n",
              "      <td>23.3333</td>\n",
              "      <td>35.0000</td>\n",
              "      <td>Alfa Romeo</td>\n",
              "    </tr>\n",
              "    <tr>\n",
              "      <th>1</th>\n",
              "      <td>11.0000</td>\n",
              "      <td>19.0000</td>\n",
              "      <td>Ferrari</td>\n",
              "    </tr>\n",
              "    <tr>\n",
              "      <th>2</th>\n",
              "      <td>29.0000</td>\n",
              "      <td>47.0000</td>\n",
              "      <td>Dodge</td>\n",
              "    </tr>\n",
              "    <tr>\n",
              "      <th>3</th>\n",
              "      <td>12.2222</td>\n",
              "      <td>16.6667</td>\n",
              "      <td>Dodge</td>\n",
              "    </tr>\n",
              "    <tr>\n",
              "      <th>4</th>\n",
              "      <td>21.0000</td>\n",
              "      <td>32.0000</td>\n",
              "      <td>Subaru</td>\n",
              "    </tr>\n",
              "  </tbody>\n",
              "</table>\n",
              "</div>"
            ],
            "text/plain": [
              "     UCity  UHighway        make\n",
              "0  23.3333   35.0000  Alfa Romeo\n",
              "1  11.0000   19.0000     Ferrari\n",
              "2  29.0000   47.0000       Dodge\n",
              "3  12.2222   16.6667       Dodge\n",
              "4  21.0000   32.0000      Subaru"
            ]
          },
          "metadata": {
            "tags": []
          },
          "execution_count": 12
        }
      ]
    },
    {
      "cell_type": "code",
      "metadata": {
        "id": "TQR5zLuxNzg_",
        "colab": {
          "base_uri": "https://localhost:8080/"
        },
        "outputId": "20f7377a-4e6a-4bad-a459-eca766874279"
      },
      "source": [
        "\"\"\"\n",
        "1. Find the the names of all of the manufacturers\n",
        "\"\"\"\n",
        "makes = list(pd.unique(efficiency_data.loc[:,'make']))\n",
        "# The number of manufactuers\n",
        "len(makes)"
      ],
      "execution_count": null,
      "outputs": [
        {
          "output_type": "execute_result",
          "data": {
            "text/plain": [
              "138"
            ]
          },
          "metadata": {
            "tags": []
          },
          "execution_count": 13
        }
      ]
    },
    {
      "cell_type": "code",
      "metadata": {
        "id": "zYCDQZQdLueL"
      },
      "source": [
        "\"\"\"\n",
        "Find the mean MPG of each manufacturer\n",
        "\"\"\"\n",
        "make_mpg = []\n",
        "\n",
        "#Iterate through each row\n",
        "for i in range(len(makes)):\n",
        "  make = makes[i]\n",
        "  models = raw_data[raw_data[\"make\"]==make].loc[:, [\"UCity\", \"UHighway\"]]\n",
        "  # print(models.loc[:,'UCity'].mean())\n",
        "  # break\n",
        "  make_mpg += [ (models.loc[:,'UCity'].mean()+ models.loc[:,'UHighway'].mean()) /2 ]\n",
        "\n",
        "\n",
        "make_mpg = pd.DataFrame({\"make\": makes, \"mean_MPG\": make_mpg})"
      ],
      "execution_count": null,
      "outputs": []
    },
    {
      "cell_type": "code",
      "metadata": {
        "id": "n7V95yrzwjUE",
        "colab": {
          "base_uri": "https://localhost:8080/",
          "height": 206
        },
        "outputId": "6d1d0a04-fd58-4cf8-f4a5-9647f369b53f"
      },
      "source": [
        "make_mpg.head()"
      ],
      "execution_count": null,
      "outputs": [
        {
          "output_type": "execute_result",
          "data": {
            "text/html": [
              "<div>\n",
              "<style scoped>\n",
              "    .dataframe tbody tr th:only-of-type {\n",
              "        vertical-align: middle;\n",
              "    }\n",
              "\n",
              "    .dataframe tbody tr th {\n",
              "        vertical-align: top;\n",
              "    }\n",
              "\n",
              "    .dataframe thead th {\n",
              "        text-align: right;\n",
              "    }\n",
              "</style>\n",
              "<table border=\"1\" class=\"dataframe\">\n",
              "  <thead>\n",
              "    <tr style=\"text-align: right;\">\n",
              "      <th></th>\n",
              "      <th>make</th>\n",
              "      <th>mean_MPG</th>\n",
              "    </tr>\n",
              "  </thead>\n",
              "  <tbody>\n",
              "    <tr>\n",
              "      <th>0</th>\n",
              "      <td>Alfa Romeo</td>\n",
              "      <td>29.996125</td>\n",
              "    </tr>\n",
              "    <tr>\n",
              "      <th>1</th>\n",
              "      <td>Ferrari</td>\n",
              "      <td>18.488925</td>\n",
              "    </tr>\n",
              "    <tr>\n",
              "      <th>2</th>\n",
              "      <td>Dodge</td>\n",
              "      <td>24.091642</td>\n",
              "    </tr>\n",
              "    <tr>\n",
              "      <th>3</th>\n",
              "      <td>Subaru</td>\n",
              "      <td>31.639623</td>\n",
              "    </tr>\n",
              "    <tr>\n",
              "      <th>4</th>\n",
              "      <td>Toyota</td>\n",
              "      <td>31.773677</td>\n",
              "    </tr>\n",
              "  </tbody>\n",
              "</table>\n",
              "</div>"
            ],
            "text/plain": [
              "         make   mean_MPG\n",
              "0  Alfa Romeo  29.996125\n",
              "1     Ferrari  18.488925\n",
              "2       Dodge  24.091642\n",
              "3      Subaru  31.639623\n",
              "4      Toyota  31.773677"
            ]
          },
          "metadata": {
            "tags": []
          },
          "execution_count": 15
        }
      ]
    },
    {
      "cell_type": "code",
      "metadata": {
        "id": "PcJdp86Xy7Bq",
        "colab": {
          "base_uri": "https://localhost:8080/",
          "height": 35
        },
        "outputId": "34608ecf-ca65-4814-afa7-e25e0033e0a3"
      },
      "source": [
        "mpg_max = max(make_mpg.loc[:,\"mean_MPG\"])\n",
        "make_max_list = make_mpg.loc[make_mpg[\"mean_MPG\"]==mpg_max]\n",
        "make_max = list(make_max_list[\"make\"])[0]\n",
        "make_max"
      ],
      "execution_count": null,
      "outputs": [
        {
          "output_type": "execute_result",
          "data": {
            "application/vnd.google.colaboratory.intrinsic+json": {
              "type": "string"
            },
            "text/plain": [
              "'Tesla'"
            ]
          },
          "metadata": {
            "tags": []
          },
          "execution_count": 16
        }
      ]
    },
    {
      "cell_type": "code",
      "metadata": {
        "id": "UIqPq3vHzbo6",
        "colab": {
          "base_uri": "https://localhost:8080/",
          "height": 81
        },
        "outputId": "a56e9ea5-d1c7-444f-9514-c53f5756117b"
      },
      "source": [
        "make_max_list"
      ],
      "execution_count": null,
      "outputs": [
        {
          "output_type": "execute_result",
          "data": {
            "text/html": [
              "<div>\n",
              "<style scoped>\n",
              "    .dataframe tbody tr th:only-of-type {\n",
              "        vertical-align: middle;\n",
              "    }\n",
              "\n",
              "    .dataframe tbody tr th {\n",
              "        vertical-align: top;\n",
              "    }\n",
              "\n",
              "    .dataframe thead th {\n",
              "        text-align: right;\n",
              "    }\n",
              "</style>\n",
              "<table border=\"1\" class=\"dataframe\">\n",
              "  <thead>\n",
              "    <tr style=\"text-align: right;\">\n",
              "      <th></th>\n",
              "      <th>make</th>\n",
              "      <th>mean_MPG</th>\n",
              "    </tr>\n",
              "  </thead>\n",
              "  <tbody>\n",
              "    <tr>\n",
              "      <th>111</th>\n",
              "      <td>Tesla</td>\n",
              "      <td>138.959813</td>\n",
              "    </tr>\n",
              "  </tbody>\n",
              "</table>\n",
              "</div>"
            ],
            "text/plain": [
              "      make    mean_MPG\n",
              "111  Tesla  138.959813"
            ]
          },
          "metadata": {
            "tags": []
          },
          "execution_count": 17
        }
      ]
    },
    {
      "cell_type": "code",
      "metadata": {
        "id": "3offwzlKVX5Y",
        "colab": {
          "base_uri": "https://localhost:8080/",
          "height": 206
        },
        "outputId": "5ceb6fc6-3ff0-4eb6-d4f3-a73d571591f5"
      },
      "source": [
        "make_mpg.head()"
      ],
      "execution_count": null,
      "outputs": [
        {
          "output_type": "execute_result",
          "data": {
            "text/html": [
              "<div>\n",
              "<style scoped>\n",
              "    .dataframe tbody tr th:only-of-type {\n",
              "        vertical-align: middle;\n",
              "    }\n",
              "\n",
              "    .dataframe tbody tr th {\n",
              "        vertical-align: top;\n",
              "    }\n",
              "\n",
              "    .dataframe thead th {\n",
              "        text-align: right;\n",
              "    }\n",
              "</style>\n",
              "<table border=\"1\" class=\"dataframe\">\n",
              "  <thead>\n",
              "    <tr style=\"text-align: right;\">\n",
              "      <th></th>\n",
              "      <th>make</th>\n",
              "      <th>mean_MPG</th>\n",
              "    </tr>\n",
              "  </thead>\n",
              "  <tbody>\n",
              "    <tr>\n",
              "      <th>0</th>\n",
              "      <td>Alfa Romeo</td>\n",
              "      <td>29.996125</td>\n",
              "    </tr>\n",
              "    <tr>\n",
              "      <th>1</th>\n",
              "      <td>Ferrari</td>\n",
              "      <td>18.488925</td>\n",
              "    </tr>\n",
              "    <tr>\n",
              "      <th>2</th>\n",
              "      <td>Dodge</td>\n",
              "      <td>24.091642</td>\n",
              "    </tr>\n",
              "    <tr>\n",
              "      <th>3</th>\n",
              "      <td>Subaru</td>\n",
              "      <td>31.639623</td>\n",
              "    </tr>\n",
              "    <tr>\n",
              "      <th>4</th>\n",
              "      <td>Toyota</td>\n",
              "      <td>31.773677</td>\n",
              "    </tr>\n",
              "  </tbody>\n",
              "</table>\n",
              "</div>"
            ],
            "text/plain": [
              "         make   mean_MPG\n",
              "0  Alfa Romeo  29.996125\n",
              "1     Ferrari  18.488925\n",
              "2       Dodge  24.091642\n",
              "3      Subaru  31.639623\n",
              "4      Toyota  31.773677"
            ]
          },
          "metadata": {
            "tags": []
          },
          "execution_count": 18
        }
      ]
    },
    {
      "cell_type": "code",
      "metadata": {
        "id": "xq3MYOT1qAGf",
        "colab": {
          "base_uri": "https://localhost:8080/"
        },
        "outputId": "fd5877bb-822a-40e0-f227-3c03595ad787"
      },
      "source": [
        "print(make_max + \" produces the most fuel efficient fleet.\")\n",
        "print(make_max + \"'s average fuel range is \" + str(round(mpg_max,2)) + \" mpg.\")\n",
        "print(\"The average fuel range among all of the manufacturers is \"+ str(round(make_mpg[\"mean_MPG\"].mean(), 2)) + \" mpg.\")\n"
      ],
      "execution_count": null,
      "outputs": [
        {
          "output_type": "stream",
          "text": [
            "Tesla produces the most fuel efficient fleet.\n",
            "Tesla's average fuel range is 138.96 mpg.\n",
            "The average fuel range among all of the manufacturers is 28.93 mpg.\n"
          ],
          "name": "stdout"
        }
      ]
    },
    {
      "cell_type": "code",
      "metadata": {
        "id": "vPE_tTnR1i_T",
        "colab": {
          "base_uri": "https://localhost:8080/",
          "height": 35
        },
        "outputId": "2241ff98-f0b4-4a52-c967-df060aac3d9e"
      },
      "source": [
        "mpg_second = max(make_mpg[make_mpg[\"make\"] != \"Tesla\"][\"mean_MPG\"])\n",
        "make_second_list = make_mpg.loc[make_mpg['mean_MPG'] == mpg_second]\n",
        "make_second = list(make_second_list[\"make\"])[0]\n",
        "make_second"
      ],
      "execution_count": null,
      "outputs": [
        {
          "output_type": "execute_result",
          "data": {
            "application/vnd.google.colaboratory.intrinsic+json": {
              "type": "string"
            },
            "text/plain": [
              "'CODA Automotive'"
            ]
          },
          "metadata": {
            "tags": []
          },
          "execution_count": 20
        }
      ]
    },
    {
      "cell_type": "code",
      "metadata": {
        "id": "gTQmcbDc1KHt",
        "colab": {
          "base_uri": "https://localhost:8080/",
          "height": 69
        },
        "outputId": "10af2341-e421-4746-903a-b8a004041e00"
      },
      "source": [
        "print(make_second + \" produces the second most fuel efficient fleet.\")\n",
        "print(make_second + \"'s average fuel range is \" + str(round(mpg_second,2)) + \" mpg.\")\n",
        "print(\"The average fuel range among all of the manufacturers is \"+ str(round(make_mpg[\"mean_MPG\"].mean(), 2)) + \" mpg.\")\n"
      ],
      "execution_count": null,
      "outputs": [
        {
          "output_type": "stream",
          "text": [
            "CODA Automotive produces the second most fuel efficient fleet.\n",
            "CODA Automotive's average fuel range is 103.65 mpg.\n",
            "The average fuel range among all of the manufacturers is 28.65 mpg.\n"
          ],
          "name": "stdout"
        }
      ]
    },
    {
      "cell_type": "markdown",
      "metadata": {
        "id": "u8OifL0QtS9Y"
      },
      "source": [
        "Trivial Check"
      ]
    },
    {
      "cell_type": "code",
      "metadata": {
        "id": "5cyg1sK1tSo9",
        "colab": {
          "base_uri": "https://localhost:8080/",
          "height": 223
        },
        "outputId": "039188b1-9f71-4b32-bb02-5b46db489dde"
      },
      "source": [
        "tesla = raw_data[raw_data[\"make\"]==\"Tesla\"].loc[:, [\"make\", \"UCity\"]]#.head()\n",
        "print(tesla.loc[:,\"UCity\"].mean())\n",
        "raw_data[raw_data[\"make\"]==\"Tesla\"].loc[:, [\"make\", \"UCity\"]].head()"
      ],
      "execution_count": null,
      "outputs": [
        {
          "output_type": "stream",
          "text": [
            "138.7505154639175\n"
          ],
          "name": "stdout"
        },
        {
          "output_type": "execute_result",
          "data": {
            "text/html": [
              "<div>\n",
              "<style scoped>\n",
              "    .dataframe tbody tr th:only-of-type {\n",
              "        vertical-align: middle;\n",
              "    }\n",
              "\n",
              "    .dataframe tbody tr th {\n",
              "        vertical-align: top;\n",
              "    }\n",
              "\n",
              "    .dataframe thead th {\n",
              "        text-align: right;\n",
              "    }\n",
              "</style>\n",
              "<table border=\"1\" class=\"dataframe\">\n",
              "  <thead>\n",
              "    <tr style=\"text-align: right;\">\n",
              "      <th></th>\n",
              "      <th>make</th>\n",
              "      <th>UCity</th>\n",
              "    </tr>\n",
              "  </thead>\n",
              "  <tbody>\n",
              "    <tr>\n",
              "      <th>24783</th>\n",
              "      <td>Tesla</td>\n",
              "      <td>110.4</td>\n",
              "    </tr>\n",
              "    <tr>\n",
              "      <th>25681</th>\n",
              "      <td>Tesla</td>\n",
              "      <td>118.6</td>\n",
              "    </tr>\n",
              "    <tr>\n",
              "      <th>25682</th>\n",
              "      <td>Tesla</td>\n",
              "      <td>110.4</td>\n",
              "    </tr>\n",
              "    <tr>\n",
              "      <th>25953</th>\n",
              "      <td>Tesla</td>\n",
              "      <td>117.3</td>\n",
              "    </tr>\n",
              "    <tr>\n",
              "      <th>27223</th>\n",
              "      <td>Tesla</td>\n",
              "      <td>110.4</td>\n",
              "    </tr>\n",
              "  </tbody>\n",
              "</table>\n",
              "</div>"
            ],
            "text/plain": [
              "        make  UCity\n",
              "24783  Tesla  110.4\n",
              "25681  Tesla  118.6\n",
              "25682  Tesla  110.4\n",
              "25953  Tesla  117.3\n",
              "27223  Tesla  110.4"
            ]
          },
          "metadata": {
            "tags": []
          },
          "execution_count": 23
        }
      ]
    },
    {
      "cell_type": "markdown",
      "metadata": {
        "id": "72LROCFACN_0"
      },
      "source": [
        "Most of Tesla's cars have a City MPG that is over 100, so it makes sense that their average is over 100"
      ]
    },
    {
      "cell_type": "markdown",
      "metadata": {
        "id": "IFAsuui5uWcd"
      },
      "source": [
        "## Conclusion\n",
        "1. The manufacturer Tesla produces the most fuel-efficient fleet of cars, as it has the highest average fuel range\n",
        "\n"
      ]
    },
    {
      "cell_type": "markdown",
      "metadata": {
        "id": "lYIgx-nfvWJy"
      },
      "source": [
        "# 2. Build a model to predict City MPG. Based on the model, how would you design a car that has the best possible City MPG"
      ]
    },
    {
      "cell_type": "markdown",
      "metadata": {
        "id": "qI3PSDeXZdZA"
      },
      "source": [
        "## Assumptions\n",
        "1. If a car doesn't have an 'atvtype', type of alternative fuel or advanced technology, it is gasoline powered"
      ]
    },
    {
      "cell_type": "markdown",
      "metadata": {
        "id": "GYaeSem_x-1K"
      },
      "source": [
        "## Plan\n"
      ]
    },
    {
      "cell_type": "markdown",
      "metadata": {
        "id": "ksJvlxRWyOq9"
      },
      "source": [
        "1. Prepare Data\n",
        "2. Conduct Ridge Linear Regression\n"
      ]
    },
    {
      "cell_type": "markdown",
      "metadata": {
        "id": "ab9fBatC0gmh"
      },
      "source": [
        "## Code"
      ]
    },
    {
      "cell_type": "markdown",
      "metadata": {
        "id": "bdlai-FwOsiA"
      },
      "source": [
        "### Prepare Data\n",
        "1. Remove properties that are confidently un-predictive\n",
        "2. Fill missing data\n",
        "\n"
      ]
    },
    {
      "cell_type": "code",
      "metadata": {
        "id": "po8MO2MgQ9km",
        "colab": {
          "base_uri": "https://localhost:8080/",
          "height": 468
        },
        "outputId": "39c5fa4f-2954-42ba-ec73-331492b34481"
      },
      "source": [
        "\"\"\"\n",
        "Visualze missing data\n",
        "Look for patterns that could help meaningfully substitute data\n",
        "\"\"\"\n",
        "import missingno as msno\n",
        "import matplotlib.pyplot as plt\n",
        "\n",
        "\n",
        "\n",
        "\"\"\"\n",
        "A column is a property in the dataset\n",
        "A row is a specific data example\n",
        "An white space means that a training example is missing\n",
        "\"\"\"\n",
        "msno.matrix(raw_data)"
      ],
      "execution_count": null,
      "outputs": [
        {
          "output_type": "execute_result",
          "data": {
            "text/plain": [
              "<matplotlib.axes._subplots.AxesSubplot at 0x7f4dd7ce2b70>"
            ]
          },
          "metadata": {
            "tags": []
          },
          "execution_count": 21
        },
        {
          "output_type": "display_data",
          "data": {
            "image/png": "[encoded data removed]",
            "text/plain": [
              "<Figure size 1800x720 with 2 Axes>"
            ]
          },
          "metadata": {
            "tags": [],
            "needs_background": "light"
          }
        }
      ]
    },
    {
      "cell_type": "code",
      "metadata": {
        "colab": {
          "base_uri": "https://localhost:8080/"
        },
        "id": "NXwkIyQMs_VK",
        "outputId": "1b5a1f03-c683-4a23-b4db-973e543d6efa"
      },
      "source": [
        "raw_data.shape\n",
        "raw_data.isnull().sum().sum()"
      ],
      "execution_count": null,
      "outputs": [
        {
          "output_type": "execute_result",
          "data": {
            "text/plain": [
              "477061"
            ]
          },
          "metadata": {
            "tags": []
          },
          "execution_count": 69
        }
      ]
    },
    {
      "cell_type": "markdown",
      "metadata": {
        "id": "RiztDZ_QZtJ2"
      },
      "source": [
        "Some of the features are missing a lot of data; however, we might not need all of the features"
      ]
    },
    {
      "cell_type": "code",
      "metadata": {
        "id": "I7-AoK7cynCf",
        "colab": {
          "base_uri": "https://localhost:8080/",
          "height": 514
        },
        "outputId": "db16301c-0f37-4583-86d8-715e88bfa7ab"
      },
      "source": [
        "# Get meaningful data\n",
        "# params = ['UCity','atvType', 'createdOn', 'fuelType', 'drive', 'trany', 'city08', 'highway08', 'UHighway', 'VClass', 'co2TailpipeGpm', 'barrels08','guzzler']\n",
        "# params = ['UCity','atvType', 'createdOn', 'fuelType', 'drive', 'trany', 'VClass', 'co2TailpipeGpm', 'barrels08','guzzler']\n",
        "# params = ['UCity','atvType', 'fuelType', 'drive', 'trany', 'VClass', 'guzzler']\n",
        "params = ['UCity','atvType', 'fuelType', 'drive', 'trany', 'VClass']\n",
        "reg_data = raw_data.loc[:,params]\n",
        "#Visualize data\n",
        "msno.matrix(reg_data) "
      ],
      "execution_count": null,
      "outputs": [
        {
          "output_type": "execute_result",
          "data": {
            "text/plain": [
              "<matplotlib.axes._subplots.AxesSubplot at 0x7f4dd5227048>"
            ]
          },
          "metadata": {
            "tags": []
          },
          "execution_count": 22
        },
        {
          "output_type": "display_data",
          "data": {
            "image/png": "[encoded data removed]",
            "text/plain": [
              "<Figure size 1800x720 with 2 Axes>"
            ]
          },
          "metadata": {
            "tags": [],
            "needs_background": "light"
          }
        }
      ]
    },
    {
      "cell_type": "markdown",
      "metadata": {
        "id": "_YPE_cP3Z4Oe"
      },
      "source": [
        "The features that we want are still missing a lot of examples"
      ]
    },
    {
      "cell_type": "code",
      "metadata": {
        "id": "BDaOHobzcpuw"
      },
      "source": [
        "def replace_missing_values(dat):\n",
        "  \"\"\"\n",
        "  Fill empty atvType values with gasoline and other parameter types with 0\n",
        "  \"\"\"\n",
        "  dat['atvType'].fillna('gasoline', inplace=True)\n",
        "  dat.fillna(0, inplace=True)\n",
        "  return dat\n"
      ],
      "execution_count": null,
      "outputs": []
    },
    {
      "cell_type": "code",
      "metadata": {
        "id": "PClCF2T4ajiX",
        "colab": {
          "base_uri": "https://localhost:8080/",
          "height": 514
        },
        "outputId": "557e27b0-816d-4343-b8ff-bd1b60ae6bbf"
      },
      "source": [
        "reg_data = replace_missing_values(reg_data)\n",
        "#Visualize data\n",
        "msno.matrix(reg_data)"
      ],
      "execution_count": null,
      "outputs": [
        {
          "output_type": "execute_result",
          "data": {
            "text/plain": [
              "<matplotlib.axes._subplots.AxesSubplot at 0x7f4dd51d2828>"
            ]
          },
          "metadata": {
            "tags": []
          },
          "execution_count": 24
        },
        {
          "output_type": "display_data",
          "data": {
            "image/png": "[encoded data removed]",
            "text/plain": [
              "<Figure size 1800x720 with 2 Axes>"
            ]
          },
          "metadata": {
            "tags": [],
            "needs_background": "light"
          }
        }
      ]
    },
    {
      "cell_type": "markdown",
      "metadata": {
        "id": "qcGkSvwQZ9Ae"
      },
      "source": [
        "Due to our assumption, we can fill the atv type column\n",
        "\n",
        "The rest we can fill with zero as that would interfere with the model the least"
      ]
    },
    {
      "cell_type": "code",
      "metadata": {
        "id": "LpeoJ85c2lBd",
        "colab": {
          "base_uri": "https://localhost:8080/"
        },
        "outputId": "f8100baa-b0f2-4902-a5cc-8334ac330a42"
      },
      "source": [
        "from pandas.api.types import is_string_dtype\n",
        "\n",
        "# Find features with string values\n",
        "str_features = [col for col in reg_data.columns if is_string_dtype(reg_data[col])]\n",
        "str_features"
      ],
      "execution_count": null,
      "outputs": [
        {
          "output_type": "execute_result",
          "data": {
            "text/plain": [
              "['atvType', 'fuelType', 'drive', 'trany', 'VClass']"
            ]
          },
          "metadata": {
            "tags": []
          },
          "execution_count": 25
        }
      ]
    },
    {
      "cell_type": "code",
      "metadata": {
        "id": "dZl0XRhz2k4v",
        "colab": {
          "base_uri": "https://localhost:8080/"
        },
        "outputId": "27080201-9238-418b-bb34-28c3f2868fd1"
      },
      "source": [
        "# Which features can be turned into integer values or simplified?\n",
        "reg_data[str_features].nunique(axis=0)"
      ],
      "execution_count": null,
      "outputs": [
        {
          "output_type": "execute_result",
          "data": {
            "text/plain": [
              "atvType      9\n",
              "fuelType    14\n",
              "drive        8\n",
              "trany       41\n",
              "VClass      34\n",
              "dtype: int64"
            ]
          },
          "metadata": {
            "tags": []
          },
          "execution_count": 26
        }
      ]
    },
    {
      "cell_type": "markdown",
      "metadata": {
        "id": "wgsPlsuHaPMI"
      },
      "source": [
        "Simpllifications:\n",
        "- trany, as we only care if it is automatic or manual"
      ]
    },
    {
      "cell_type": "code",
      "metadata": {
        "id": "g-PSyM48mq7r",
        "colab": {
          "base_uri": "https://localhost:8080/"
        },
        "outputId": "ea82b5c6-db9a-4a84-ff54-8258bbf2cc5f"
      },
      "source": [
        "# Convert 'trany' column to Manual, Automatic, or 0\n",
        "reg_data['trany'] = [str(i).split()[0] for i in reg_data['trany']]\n",
        "reg_data['trany'].unique()"
      ],
      "execution_count": null,
      "outputs": [
        {
          "output_type": "execute_result",
          "data": {
            "text/plain": [
              "array(['Manual', 'Automatic', '0'], dtype=object)"
            ]
          },
          "metadata": {
            "tags": []
          },
          "execution_count": 27
        }
      ]
    },
    {
      "cell_type": "code",
      "metadata": {
        "id": "XznvoZM7vqx2",
        "colab": {
          "base_uri": "https://localhost:8080/"
        },
        "outputId": "48a43acb-b2c0-4961-89bb-a2058b65416d"
      },
      "source": [
        "# Which features can be encoded (i.e. are categorical) ?\n",
        "# Find features with string values\n",
        "str_features = [col for col in reg_data.columns if is_string_dtype(reg_data[col])]\n",
        "for feature in str_features:\n",
        "  print(feature, \" : \" ,len(reg_data.loc[:,feature].unique()))\n",
        "# They don't have many categories, so we can create dummy variables for them"
      ],
      "execution_count": null,
      "outputs": [
        {
          "output_type": "stream",
          "text": [
            "atvType  :  9\n",
            "fuelType  :  14\n",
            "drive  :  8\n",
            "trany  :  3\n",
            "VClass  :  34\n"
          ],
          "name": "stdout"
        }
      ]
    },
    {
      "cell_type": "code",
      "metadata": {
        "id": "KsUPFIbiAgp_",
        "colab": {
          "base_uri": "https://localhost:8080/",
          "height": 468
        },
        "outputId": "711cfb64-322d-4b69-f8df-1fb7eab59709"
      },
      "source": [
        "\n",
        "# Loop through each categorical variable\n",
        "for feature in str_features:\n",
        "  #Change the data type of the column to categorical\n",
        "  reg_data[feature] = pd.Categorical(reg_data[feature])\n",
        "  #Create dummy variables\n",
        "  dummies = pd.get_dummies(reg_data[feature], prefix = feature)\n",
        "  #Add dummy variables to dataframe\n",
        "  reg_data = pd.concat([reg_data, dummies], axis=1)\n",
        "  #Drop the categorical parameter\n",
        "  reg_data.drop([feature], axis=1, inplace=True)\n",
        "\n",
        "#Visuallize data\n",
        "msno.matrix(reg_data)"
      ],
      "execution_count": null,
      "outputs": [
        {
          "output_type": "execute_result",
          "data": {
            "text/plain": [
              "<matplotlib.axes._subplots.AxesSubplot at 0x7f4dd7cf9048>"
            ]
          },
          "metadata": {
            "tags": []
          },
          "execution_count": 29
        },
        {
          "output_type": "display_data",
          "data": {
            "image/png": "[encoded data removed]",
            "text/plain": [
              "<Figure size 1800x720 with 2 Axes>"
            ]
          },
          "metadata": {
            "tags": [],
            "needs_background": "light"
          }
        }
      ]
    },
    {
      "cell_type": "markdown",
      "metadata": {
        "id": "Yi5C9AbHjLnw"
      },
      "source": [
        "### Conduct Ridge Linear Regression"
      ]
    },
    {
      "cell_type": "code",
      "metadata": {
        "id": "JcWdHmuQXzwC"
      },
      "source": [
        "#Get target variables and training data\n",
        "y = reg_data.loc[:, 'UCity']\n",
        "X = reg_data.drop(['UCity'], axis=1)"
      ],
      "execution_count": null,
      "outputs": []
    },
    {
      "cell_type": "code",
      "metadata": {
        "id": "eZrvvHqJlBKt",
        "colab": {
          "base_uri": "https://localhost:8080/"
        },
        "outputId": "440cea78-5a45-4344-a96b-6cd3cee001e5"
      },
      "source": [
        "from sklearn import linear_model\n",
        "# Select a Ridge Regression model - Less susceptible to collinearity\n",
        "reg = linear_model.Ridge(alpha=5)\n",
        "reg.fit(X, y)"
      ],
      "execution_count": null,
      "outputs": [
        {
          "output_type": "execute_result",
          "data": {
            "text/plain": [
              "Ridge(alpha=5, copy_X=True, fit_intercept=True, max_iter=None, normalize=False,\n",
              "      random_state=None, solver='auto', tol=0.001)"
            ]
          },
          "metadata": {
            "tags": []
          },
          "execution_count": 31
        }
      ]
    },
    {
      "cell_type": "code",
      "metadata": {
        "id": "NI5o7OrxiL7p",
        "colab": {
          "base_uri": "https://localhost:8080/"
        },
        "outputId": "be4ca765-50ef-45e7-be89-525134171ec9"
      },
      "source": [
        "# These are the weights\n",
        "weights = list(reg.coef_)\n",
        "#First ten weights\n",
        "weights[:10]"
      ],
      "execution_count": null,
      "outputs": [
        {
          "output_type": "execute_result",
          "data": {
            "text/plain": [
              "[-10.648060201266215,\n",
              " -12.241009228469638,\n",
              " -9.57446611826037,\n",
              " -10.517846920307623,\n",
              " 53.39889881415226,\n",
              " -10.653007825535424,\n",
              " 8.045584438701086,\n",
              " 2.9139237096580697,\n",
              " -10.724016668681754,\n",
              " -7.464054898609211]"
            ]
          },
          "metadata": {
            "tags": []
          },
          "execution_count": 32
        }
      ]
    },
    {
      "cell_type": "code",
      "metadata": {
        "id": "sRAcve7kcJwn",
        "colab": {
          "base_uri": "https://localhost:8080/"
        },
        "outputId": "3ef3d543-8835-49c3-891d-6d307e1e03ad"
      },
      "source": [
        "# Do a trivial check of the model\n",
        "# The first example has a 'UCity' of 23.3333 mpg\n",
        "print('The correct answer is '+str(round(y.loc[0],2))+' mpg')\n",
        "print('Our answer is '+str(round(reg.predict([X.loc[0]])[0], 2))+' mpg')"
      ],
      "execution_count": null,
      "outputs": [
        {
          "output_type": "stream",
          "text": [
            "The correct answer is 23.33 mpg\n",
            "Our answer is 23.07 mpg\n"
          ],
          "name": "stdout"
        }
      ]
    },
    {
      "cell_type": "code",
      "metadata": {
        "id": "lx7c-b0Bnxz3"
      },
      "source": [
        "from sklearn.metrics import mean_absolute_error"
      ],
      "execution_count": null,
      "outputs": []
    },
    {
      "cell_type": "code",
      "metadata": {
        "id": "mlRMaaP7nLcF"
      },
      "source": [
        "average_fuel_efficiency = sum(y)/len(y)\n",
        "mean_absolute_error = mean_absolute_error(list(reg.predict(X)), list(y))"
      ],
      "execution_count": null,
      "outputs": []
    },
    {
      "cell_type": "code",
      "metadata": {
        "colab": {
          "base_uri": "https://localhost:8080/"
        },
        "id": "4u6CEenSowvb",
        "outputId": "f910b4bb-853a-45de-e0aa-99e3a43cb9da"
      },
      "source": [
        "# previous accuracy was 29%\n",
        "error_percent = ((mean_absolute_error / average_fuel_efficiency)*100).round(2)\n",
        "print(error_percent, '%')"
      ],
      "execution_count": null,
      "outputs": [
        {
          "output_type": "stream",
          "text": [
            "15.09 %\n"
          ],
          "name": "stdout"
        }
      ]
    },
    {
      "cell_type": "markdown",
      "metadata": {
        "id": "Z69jFWa4jlKM"
      },
      "source": [
        "## How would you design a car that has the best possible City MPG?\n"
      ]
    },
    {
      "cell_type": "markdown",
      "metadata": {
        "id": "YlZTetPwk3Hq"
      },
      "source": [
        "### Code"
      ]
    },
    {
      "cell_type": "code",
      "metadata": {
        "id": "Eai9sLo8j9G7",
        "colab": {
          "base_uri": "https://localhost:8080/",
          "height": 170
        },
        "outputId": "84165316-357d-44e1-af9d-e4a191f3cb23"
      },
      "source": [
        "# Associate the weights to their parameter name\n",
        "# weights are the weights of this linear model\n",
        "# name_param are the names of the parameters\n",
        "param = pd.DataFrame(data = [weights], columns=X.columns).T\n",
        "param = param.sort_values(by=[0])\n",
        "param = param.T\n",
        "param"
      ],
      "execution_count": null,
      "outputs": [
        {
          "output_type": "execute_result",
          "data": {
            "text/html": [
              "<div>\n",
              "<style scoped>\n",
              "    .dataframe tbody tr th:only-of-type {\n",
              "        vertical-align: middle;\n",
              "    }\n",
              "\n",
              "    .dataframe tbody tr th {\n",
              "        vertical-align: top;\n",
              "    }\n",
              "\n",
              "    .dataframe thead th {\n",
              "        text-align: right;\n",
              "    }\n",
              "</style>\n",
              "<table border=\"1\" class=\"dataframe\">\n",
              "  <thead>\n",
              "    <tr style=\"text-align: right;\">\n",
              "      <th></th>\n",
              "      <th>trany_0</th>\n",
              "      <th>atvType_Bifuel (LPG)</th>\n",
              "      <th>fuelType_Gasoline or propane</th>\n",
              "      <th>atvType_gasoline</th>\n",
              "      <th>atvType_FFV</th>\n",
              "      <th>fuelType_Gasoline or natural gas</th>\n",
              "      <th>atvType_Bifuel (CNG)</th>\n",
              "      <th>atvType_Diesel</th>\n",
              "      <th>atvType_CNG</th>\n",
              "      <th>fuelType_Premium and Electricity</th>\n",
              "      <th>fuelType_CNG</th>\n",
              "      <th>fuelType_Premium Gas or Electricity</th>\n",
              "      <th>fuelType_Premium</th>\n",
              "      <th>fuelType_Midgrade</th>\n",
              "      <th>fuelType_Premium or E85</th>\n",
              "      <th>fuelType_Gasoline or E85</th>\n",
              "      <th>fuelType_Regular</th>\n",
              "      <th>VClass_Minivan - 2WD</th>\n",
              "      <th>VClass_Vans, Passenger Type</th>\n",
              "      <th>VClass_Standard Pickup Trucks</th>\n",
              "      <th>VClass_Vans, Cargo Type</th>\n",
              "      <th>VClass_Standard Pickup Trucks 4WD</th>\n",
              "      <th>drive_2-Wheel Drive</th>\n",
              "      <th>VClass_Vans</th>\n",
              "      <th>VClass_Standard Sport Utility Vehicle 4WD</th>\n",
              "      <th>VClass_Standard Pickup Trucks/2wd</th>\n",
              "      <th>drive_Rear-Wheel Drive</th>\n",
              "      <th>drive_4-Wheel or All-Wheel Drive</th>\n",
              "      <th>VClass_Special Purpose Vehicle 4WD</th>\n",
              "      <th>VClass_Special Purpose Vehicles</th>\n",
              "      <th>VClass_Standard Pickup Trucks 2WD</th>\n",
              "      <th>VClass_Sport Utility Vehicle - 2WD</th>\n",
              "      <th>VClass_Special Purpose Vehicle 2WD</th>\n",
              "      <th>VClass_Midsize-Large Station Wagons</th>\n",
              "      <th>VClass_Vans Passenger</th>\n",
              "      <th>VClass_Small Pickup Trucks 4WD</th>\n",
              "      <th>VClass_Special Purpose Vehicles/4wd</th>\n",
              "      <th>VClass_Sport Utility Vehicle - 4WD</th>\n",
              "      <th>drive_0</th>\n",
              "      <th>VClass_Large Cars</th>\n",
              "      <th>VClass_Minivan - 4WD</th>\n",
              "      <th>VClass_Standard Sport Utility Vehicle 2WD</th>\n",
              "      <th>VClass_Special Purpose Vehicle</th>\n",
              "      <th>drive_4-Wheel Drive</th>\n",
              "      <th>drive_Part-time 4-Wheel Drive</th>\n",
              "      <th>VClass_Special Purpose Vehicles/2wd</th>\n",
              "      <th>VClass_Midsize Station Wagons</th>\n",
              "      <th>drive_All-Wheel Drive</th>\n",
              "      <th>fuelType_Diesel</th>\n",
              "      <th>VClass_Midsize Cars</th>\n",
              "      <th>VClass_Small Pickup Trucks 2WD</th>\n",
              "      <th>VClass_Two Seaters</th>\n",
              "      <th>VClass_Small Pickup Trucks</th>\n",
              "      <th>VClass_Small Sport Utility Vehicle 2WD</th>\n",
              "      <th>atvType_Plug-in Hybrid</th>\n",
              "      <th>VClass_Compact Cars</th>\n",
              "      <th>VClass_Subcompact Cars</th>\n",
              "      <th>VClass_Minicompact Cars</th>\n",
              "      <th>drive_Front-Wheel Drive</th>\n",
              "      <th>VClass_Small Sport Utility Vehicle 4WD</th>\n",
              "      <th>VClass_Small Station Wagons</th>\n",
              "      <th>fuelType_Regular Gas or Electricity</th>\n",
              "      <th>trany_Automatic</th>\n",
              "      <th>trany_Manual</th>\n",
              "      <th>atvType_Hybrid</th>\n",
              "      <th>fuelType_Regular Gas and Electricity</th>\n",
              "      <th>fuelType_Electricity</th>\n",
              "      <th>atvType_EV</th>\n",
              "    </tr>\n",
              "  </thead>\n",
              "  <tbody>\n",
              "    <tr>\n",
              "      <th>0</th>\n",
              "      <td>-15.295872</td>\n",
              "      <td>-12.277323</td>\n",
              "      <td>-12.277323</td>\n",
              "      <td>-10.891343</td>\n",
              "      <td>-10.759015</td>\n",
              "      <td>-10.698691</td>\n",
              "      <td>-10.698691</td>\n",
              "      <td>-10.693715</td>\n",
              "      <td>-9.681535</td>\n",
              "      <td>-8.117873</td>\n",
              "      <td>-7.465832</td>\n",
              "      <td>-7.063705</td>\n",
              "      <td>-6.779857</td>\n",
              "      <td>-5.808687</td>\n",
              "      <td>-5.50421</td>\n",
              "      <td>-5.254805</td>\n",
              "      <td>-4.515581</td>\n",
              "      <td>-4.097992</td>\n",
              "      <td>-3.832033</td>\n",
              "      <td>-3.298266</td>\n",
              "      <td>-3.179458</td>\n",
              "      <td>-3.138661</td>\n",
              "      <td>-2.911498</td>\n",
              "      <td>-2.794397</td>\n",
              "      <td>-2.570425</td>\n",
              "      <td>-1.961663</td>\n",
              "      <td>-1.580248</td>\n",
              "      <td>-1.56891</td>\n",
              "      <td>-1.356495</td>\n",
              "      <td>-1.319547</td>\n",
              "      <td>-1.313412</td>\n",
              "      <td>-0.977573</td>\n",
              "      <td>-0.977561</td>\n",
              "      <td>-0.860074</td>\n",
              "      <td>-0.826605</td>\n",
              "      <td>-0.669763</td>\n",
              "      <td>-0.618825</td>\n",
              "      <td>-0.611652</td>\n",
              "      <td>-0.476635</td>\n",
              "      <td>-0.310633</td>\n",
              "      <td>-0.227539</td>\n",
              "      <td>-0.217992</td>\n",
              "      <td>0.187804</td>\n",
              "      <td>0.542428</td>\n",
              "      <td>0.752718</td>\n",
              "      <td>0.918039</td>\n",
              "      <td>1.188011</td>\n",
              "      <td>1.293075</td>\n",
              "      <td>1.918549</td>\n",
              "      <td>2.004672</td>\n",
              "      <td>2.528919</td>\n",
              "      <td>2.628684</td>\n",
              "      <td>2.748105</td>\n",
              "      <td>3.029668</td>\n",
              "      <td>3.037048</td>\n",
              "      <td>3.303653</td>\n",
              "      <td>3.779033</td>\n",
              "      <td>3.884334</td>\n",
              "      <td>3.949069</td>\n",
              "      <td>4.147678</td>\n",
              "      <td>4.811967</td>\n",
              "      <td>5.514063</td>\n",
              "      <td>6.959291</td>\n",
              "      <td>8.336581</td>\n",
              "      <td>8.615185</td>\n",
              "      <td>12.704563</td>\n",
              "      <td>53.349389</td>\n",
              "      <td>53.349389</td>\n",
              "    </tr>\n",
              "  </tbody>\n",
              "</table>\n",
              "</div>"
            ],
            "text/plain": [
              "     trany_0  atvType_Bifuel (LPG)  ...  fuelType_Electricity  atvType_EV\n",
              "0 -15.295872            -12.277323  ...             53.349389   53.349389\n",
              "\n",
              "[1 rows x 68 columns]"
            ]
          },
          "metadata": {
            "tags": []
          },
          "execution_count": 25
        }
      ]
    },
    {
      "cell_type": "code",
      "metadata": {
        "id": "Z0-_PSAIlqoB",
        "colab": {
          "base_uri": "https://localhost:8080/",
          "height": 316
        },
        "outputId": "928bfb05-b11e-4867-c735-466fe231dd11"
      },
      "source": [
        "# Initialize plot\n",
        "fig = plt.figure()\n",
        "fig, ax = plt.subplots()\n",
        "\n",
        "#Use the parameter names as x-values and the parameter values as y values\n",
        "plt.plot(list(param.columns), param.T)\n",
        "\n",
        "# Set aesthetics\n",
        "fig.suptitle('Parameters and their Coefficients', fontsize=20)\n",
        "ax.get_xaxis().set_ticks([])\n",
        "plt.xlabel('Parameter', fontsize=18)\n",
        "plt.ylabel('Coefficients', fontsize=16)\n",
        "plt.show()"
      ],
      "execution_count": null,
      "outputs": [
        {
          "output_type": "display_data",
          "data": {
            "text/plain": [
              "<Figure size 432x288 with 0 Axes>"
            ]
          },
          "metadata": {
            "tags": []
          }
        },
        {
          "output_type": "display_data",
          "data": {
            "image/png": "[encoded data removed]",
            "text/plain": [
              "<Figure size 432x288 with 1 Axes>"
            ]
          },
          "metadata": {
            "tags": [],
            "needs_background": "light"
          }
        }
      ]
    },
    {
      "cell_type": "code",
      "metadata": {
        "id": "Spo0_TBkw-Of",
        "colab": {
          "base_uri": "https://localhost:8080/",
          "height": 135
        },
        "outputId": "543ab9f2-8f50-46c2-897f-6c74528eb706"
      },
      "source": [
        "#Electricity has the highest weight with Gas/Electric Hybrid next for fuelType\n",
        "cols_fuel = param.columns\n",
        "cols_fuel = [i for i in cols_fuel if i.split(sep=\"_\")[0] == 'fuelType']\n",
        "param[cols_fuel]"
      ],
      "execution_count": null,
      "outputs": [
        {
          "output_type": "execute_result",
          "data": {
            "text/html": [
              "<div>\n",
              "<style scoped>\n",
              "    .dataframe tbody tr th:only-of-type {\n",
              "        vertical-align: middle;\n",
              "    }\n",
              "\n",
              "    .dataframe tbody tr th {\n",
              "        vertical-align: top;\n",
              "    }\n",
              "\n",
              "    .dataframe thead th {\n",
              "        text-align: right;\n",
              "    }\n",
              "</style>\n",
              "<table border=\"1\" class=\"dataframe\">\n",
              "  <thead>\n",
              "    <tr style=\"text-align: right;\">\n",
              "      <th></th>\n",
              "      <th>fuelType_Gasoline or propane</th>\n",
              "      <th>fuelType_Gasoline or natural gas</th>\n",
              "      <th>fuelType_Premium and Electricity</th>\n",
              "      <th>fuelType_CNG</th>\n",
              "      <th>fuelType_Premium Gas or Electricity</th>\n",
              "      <th>fuelType_Premium</th>\n",
              "      <th>fuelType_Midgrade</th>\n",
              "      <th>fuelType_Premium or E85</th>\n",
              "      <th>fuelType_Gasoline or E85</th>\n",
              "      <th>fuelType_Regular</th>\n",
              "      <th>fuelType_Diesel</th>\n",
              "      <th>fuelType_Regular Gas or Electricity</th>\n",
              "      <th>fuelType_Regular Gas and Electricity</th>\n",
              "      <th>fuelType_Electricity</th>\n",
              "    </tr>\n",
              "  </thead>\n",
              "  <tbody>\n",
              "    <tr>\n",
              "      <th>0</th>\n",
              "      <td>-12.277323</td>\n",
              "      <td>-10.698691</td>\n",
              "      <td>-8.117873</td>\n",
              "      <td>-7.465832</td>\n",
              "      <td>-7.063705</td>\n",
              "      <td>-6.779857</td>\n",
              "      <td>-5.808687</td>\n",
              "      <td>-5.50421</td>\n",
              "      <td>-5.254805</td>\n",
              "      <td>-4.515581</td>\n",
              "      <td>1.918549</td>\n",
              "      <td>5.514063</td>\n",
              "      <td>12.704563</td>\n",
              "      <td>53.349389</td>\n",
              "    </tr>\n",
              "  </tbody>\n",
              "</table>\n",
              "</div>"
            ],
            "text/plain": [
              "   fuelType_Gasoline or propane  ...  fuelType_Electricity\n",
              "0                    -12.277323  ...             53.349389\n",
              "\n",
              "[1 rows x 14 columns]"
            ]
          },
          "metadata": {
            "tags": []
          },
          "execution_count": 27
        }
      ]
    },
    {
      "cell_type": "code",
      "metadata": {
        "id": "TCLvmgrN5iUl",
        "colab": {
          "base_uri": "https://localhost:8080/",
          "height": 81
        },
        "outputId": "04db5ce6-7981-4911-e5d3-ec18c5dc6189"
      },
      "source": [
        "#Manual transmission is to be preffered over automatic, but only by a little bit\n",
        "cols_trany = [i for i in param.columns if i.split(sep=\"_\")[0] == 'trany']\n",
        "param[cols_trany]"
      ],
      "execution_count": null,
      "outputs": [
        {
          "output_type": "execute_result",
          "data": {
            "text/html": [
              "<div>\n",
              "<style scoped>\n",
              "    .dataframe tbody tr th:only-of-type {\n",
              "        vertical-align: middle;\n",
              "    }\n",
              "\n",
              "    .dataframe tbody tr th {\n",
              "        vertical-align: top;\n",
              "    }\n",
              "\n",
              "    .dataframe thead th {\n",
              "        text-align: right;\n",
              "    }\n",
              "</style>\n",
              "<table border=\"1\" class=\"dataframe\">\n",
              "  <thead>\n",
              "    <tr style=\"text-align: right;\">\n",
              "      <th></th>\n",
              "      <th>trany_0</th>\n",
              "      <th>trany_Automatic</th>\n",
              "      <th>trany_Manual</th>\n",
              "    </tr>\n",
              "  </thead>\n",
              "  <tbody>\n",
              "    <tr>\n",
              "      <th>0</th>\n",
              "      <td>-15.295872</td>\n",
              "      <td>6.959291</td>\n",
              "      <td>8.336581</td>\n",
              "    </tr>\n",
              "  </tbody>\n",
              "</table>\n",
              "</div>"
            ],
            "text/plain": [
              "     trany_0  trany_Automatic  trany_Manual\n",
              "0 -15.295872         6.959291      8.336581"
            ]
          },
          "metadata": {
            "tags": []
          },
          "execution_count": 28
        }
      ]
    },
    {
      "cell_type": "code",
      "metadata": {
        "id": "_lBJl6zYxoRq",
        "colab": {
          "base_uri": "https://localhost:8080/",
          "height": 118
        },
        "outputId": "2e0b73b8-a9f9-4c01-e4c4-a973ba739562"
      },
      "source": [
        "#Electric Vehicles are the best atvType, then Hybrid\n",
        "cols_atv = param.columns\n",
        "cols_atv = [i for i in cols_atv if i.split(sep=\"_\")[0] == 'atvType']\n",
        "param[cols_atv]"
      ],
      "execution_count": null,
      "outputs": [
        {
          "output_type": "execute_result",
          "data": {
            "text/html": [
              "<div>\n",
              "<style scoped>\n",
              "    .dataframe tbody tr th:only-of-type {\n",
              "        vertical-align: middle;\n",
              "    }\n",
              "\n",
              "    .dataframe tbody tr th {\n",
              "        vertical-align: top;\n",
              "    }\n",
              "\n",
              "    .dataframe thead th {\n",
              "        text-align: right;\n",
              "    }\n",
              "</style>\n",
              "<table border=\"1\" class=\"dataframe\">\n",
              "  <thead>\n",
              "    <tr style=\"text-align: right;\">\n",
              "      <th></th>\n",
              "      <th>atvType_Bifuel (LPG)</th>\n",
              "      <th>atvType_gasoline</th>\n",
              "      <th>atvType_FFV</th>\n",
              "      <th>atvType_Bifuel (CNG)</th>\n",
              "      <th>atvType_Diesel</th>\n",
              "      <th>atvType_CNG</th>\n",
              "      <th>atvType_Plug-in Hybrid</th>\n",
              "      <th>atvType_Hybrid</th>\n",
              "      <th>atvType_EV</th>\n",
              "    </tr>\n",
              "  </thead>\n",
              "  <tbody>\n",
              "    <tr>\n",
              "      <th>0</th>\n",
              "      <td>-12.277323</td>\n",
              "      <td>-10.891343</td>\n",
              "      <td>-10.759015</td>\n",
              "      <td>-10.698691</td>\n",
              "      <td>-10.693715</td>\n",
              "      <td>-9.681535</td>\n",
              "      <td>3.037048</td>\n",
              "      <td>8.615185</td>\n",
              "      <td>53.349389</td>\n",
              "    </tr>\n",
              "  </tbody>\n",
              "</table>\n",
              "</div>"
            ],
            "text/plain": [
              "   atvType_Bifuel (LPG)  atvType_gasoline  ...  atvType_Hybrid  atvType_EV\n",
              "0            -12.277323        -10.891343  ...        8.615185   53.349389\n",
              "\n",
              "[1 rows x 9 columns]"
            ]
          },
          "metadata": {
            "tags": []
          },
          "execution_count": 29
        }
      ]
    },
    {
      "cell_type": "code",
      "metadata": {
        "id": "jkjVgza52f2F",
        "colab": {
          "base_uri": "https://localhost:8080/",
          "height": 153
        },
        "outputId": "35bab53c-9743-41c4-b9c3-40c03e1f18cb"
      },
      "source": [
        "#Small Station Wagons are the best Vehicle Class\n",
        "cols_size = param.columns\n",
        "cols_size = [i for i in cols_size if i.split(sep=\"_\")[0] == 'VClass']\n",
        "param[cols_size]"
      ],
      "execution_count": null,
      "outputs": [
        {
          "output_type": "execute_result",
          "data": {
            "text/html": [
              "<div>\n",
              "<style scoped>\n",
              "    .dataframe tbody tr th:only-of-type {\n",
              "        vertical-align: middle;\n",
              "    }\n",
              "\n",
              "    .dataframe tbody tr th {\n",
              "        vertical-align: top;\n",
              "    }\n",
              "\n",
              "    .dataframe thead th {\n",
              "        text-align: right;\n",
              "    }\n",
              "</style>\n",
              "<table border=\"1\" class=\"dataframe\">\n",
              "  <thead>\n",
              "    <tr style=\"text-align: right;\">\n",
              "      <th></th>\n",
              "      <th>VClass_Minivan - 2WD</th>\n",
              "      <th>VClass_Vans, Passenger Type</th>\n",
              "      <th>VClass_Standard Pickup Trucks</th>\n",
              "      <th>VClass_Vans, Cargo Type</th>\n",
              "      <th>VClass_Standard Pickup Trucks 4WD</th>\n",
              "      <th>VClass_Vans</th>\n",
              "      <th>VClass_Standard Sport Utility Vehicle 4WD</th>\n",
              "      <th>VClass_Standard Pickup Trucks/2wd</th>\n",
              "      <th>VClass_Special Purpose Vehicle 4WD</th>\n",
              "      <th>VClass_Special Purpose Vehicles</th>\n",
              "      <th>VClass_Standard Pickup Trucks 2WD</th>\n",
              "      <th>VClass_Sport Utility Vehicle - 2WD</th>\n",
              "      <th>VClass_Special Purpose Vehicle 2WD</th>\n",
              "      <th>VClass_Midsize-Large Station Wagons</th>\n",
              "      <th>VClass_Vans Passenger</th>\n",
              "      <th>VClass_Small Pickup Trucks 4WD</th>\n",
              "      <th>VClass_Special Purpose Vehicles/4wd</th>\n",
              "      <th>VClass_Sport Utility Vehicle - 4WD</th>\n",
              "      <th>VClass_Large Cars</th>\n",
              "      <th>VClass_Minivan - 4WD</th>\n",
              "      <th>VClass_Standard Sport Utility Vehicle 2WD</th>\n",
              "      <th>VClass_Special Purpose Vehicle</th>\n",
              "      <th>VClass_Special Purpose Vehicles/2wd</th>\n",
              "      <th>VClass_Midsize Station Wagons</th>\n",
              "      <th>VClass_Midsize Cars</th>\n",
              "      <th>VClass_Small Pickup Trucks 2WD</th>\n",
              "      <th>VClass_Two Seaters</th>\n",
              "      <th>VClass_Small Pickup Trucks</th>\n",
              "      <th>VClass_Small Sport Utility Vehicle 2WD</th>\n",
              "      <th>VClass_Compact Cars</th>\n",
              "      <th>VClass_Subcompact Cars</th>\n",
              "      <th>VClass_Minicompact Cars</th>\n",
              "      <th>VClass_Small Sport Utility Vehicle 4WD</th>\n",
              "      <th>VClass_Small Station Wagons</th>\n",
              "    </tr>\n",
              "  </thead>\n",
              "  <tbody>\n",
              "    <tr>\n",
              "      <th>0</th>\n",
              "      <td>-4.097992</td>\n",
              "      <td>-3.832033</td>\n",
              "      <td>-3.298266</td>\n",
              "      <td>-3.179458</td>\n",
              "      <td>-3.138661</td>\n",
              "      <td>-2.794397</td>\n",
              "      <td>-2.570425</td>\n",
              "      <td>-1.961663</td>\n",
              "      <td>-1.356495</td>\n",
              "      <td>-1.319547</td>\n",
              "      <td>-1.313412</td>\n",
              "      <td>-0.977573</td>\n",
              "      <td>-0.977561</td>\n",
              "      <td>-0.860074</td>\n",
              "      <td>-0.826605</td>\n",
              "      <td>-0.669763</td>\n",
              "      <td>-0.618825</td>\n",
              "      <td>-0.611652</td>\n",
              "      <td>-0.310633</td>\n",
              "      <td>-0.227539</td>\n",
              "      <td>-0.217992</td>\n",
              "      <td>0.187804</td>\n",
              "      <td>0.918039</td>\n",
              "      <td>1.188011</td>\n",
              "      <td>2.004672</td>\n",
              "      <td>2.528919</td>\n",
              "      <td>2.628684</td>\n",
              "      <td>2.748105</td>\n",
              "      <td>3.029668</td>\n",
              "      <td>3.303653</td>\n",
              "      <td>3.779033</td>\n",
              "      <td>3.884334</td>\n",
              "      <td>4.147678</td>\n",
              "      <td>4.811967</td>\n",
              "    </tr>\n",
              "  </tbody>\n",
              "</table>\n",
              "</div>"
            ],
            "text/plain": [
              "   VClass_Minivan - 2WD  ...  VClass_Small Station Wagons\n",
              "0             -4.097992  ...                     4.811967\n",
              "\n",
              "[1 rows x 34 columns]"
            ]
          },
          "metadata": {
            "tags": []
          },
          "execution_count": 30
        }
      ]
    },
    {
      "cell_type": "code",
      "metadata": {
        "id": "fF2a-u8B23Es",
        "colab": {
          "base_uri": "https://localhost:8080/",
          "height": 98
        },
        "outputId": "8fe9c043-d7f9-4fcd-bf1b-8415b0fa4c17"
      },
      "source": [
        "#Front-Wheel Drive is the best engine and transmission layout\n",
        "cols_drive = param.columns\n",
        "cols_drive = [i for i in cols_drive if i.split(sep=\"_\")[0] == 'drive']\n",
        "param[cols_drive]"
      ],
      "execution_count": null,
      "outputs": [
        {
          "output_type": "execute_result",
          "data": {
            "text/html": [
              "<div>\n",
              "<style scoped>\n",
              "    .dataframe tbody tr th:only-of-type {\n",
              "        vertical-align: middle;\n",
              "    }\n",
              "\n",
              "    .dataframe tbody tr th {\n",
              "        vertical-align: top;\n",
              "    }\n",
              "\n",
              "    .dataframe thead th {\n",
              "        text-align: right;\n",
              "    }\n",
              "</style>\n",
              "<table border=\"1\" class=\"dataframe\">\n",
              "  <thead>\n",
              "    <tr style=\"text-align: right;\">\n",
              "      <th></th>\n",
              "      <th>drive_2-Wheel Drive</th>\n",
              "      <th>drive_Rear-Wheel Drive</th>\n",
              "      <th>drive_4-Wheel or All-Wheel Drive</th>\n",
              "      <th>drive_0</th>\n",
              "      <th>drive_4-Wheel Drive</th>\n",
              "      <th>drive_Part-time 4-Wheel Drive</th>\n",
              "      <th>drive_All-Wheel Drive</th>\n",
              "      <th>drive_Front-Wheel Drive</th>\n",
              "    </tr>\n",
              "  </thead>\n",
              "  <tbody>\n",
              "    <tr>\n",
              "      <th>0</th>\n",
              "      <td>-2.911498</td>\n",
              "      <td>-1.580248</td>\n",
              "      <td>-1.56891</td>\n",
              "      <td>-0.476635</td>\n",
              "      <td>0.542428</td>\n",
              "      <td>0.752718</td>\n",
              "      <td>1.293075</td>\n",
              "      <td>3.949069</td>\n",
              "    </tr>\n",
              "  </tbody>\n",
              "</table>\n",
              "</div>"
            ],
            "text/plain": [
              "   drive_2-Wheel Drive  ...  drive_Front-Wheel Drive\n",
              "0            -2.911498  ...                 3.949069\n",
              "\n",
              "[1 rows x 8 columns]"
            ]
          },
          "metadata": {
            "tags": []
          },
          "execution_count": 31
        }
      ]
    },
    {
      "cell_type": "markdown",
      "metadata": {
        "id": "PtiwO1HF6bnV"
      },
      "source": [
        "## Conclusion\n",
        "Based on the linear model and correlation analysis, this is how I would design my car: \n",
        "1. Fuel: Electric\n",
        "  - Electricity has the most positive weight out of all of the fuelTypes', at 53.25\n",
        "  - EV (Electric Vehicle) has a weight of 53, which is the highest out of all of the atvType's\n",
        "2. Transmission: Manual\n",
        "  - Manual's weight is 8.4, about 1.4 higher than automatic\n",
        "3. Vehicle Type: Small Station Wagon\n",
        "  - This vehicle type has the most positive weight out of them all, at 4.82\n",
        "3. Engine and Transmission Layout: Front-Wheel Drive\n",
        "  - Front-Wheel Drive is more positive then all of the others in its category , at 3.96\n",
        "\n"
      ]
    },
    {
      "cell_type": "markdown",
      "metadata": {
        "id": "AYdusepkb8Uo"
      },
      "source": [
        "# 3. How has fuel economy changed over time? What other trends or insights can you find in the data?"
      ]
    },
    {
      "cell_type": "markdown",
      "metadata": {
        "id": "KtsohOTqYpkk"
      },
      "source": [
        "## Plan\n",
        "1. Convert the 'createdOn' data to numeric values\n",
        "2. Find the mean of 'UCity' for each year\n",
        "3. Plot, and find the change"
      ]
    },
    {
      "cell_type": "markdown",
      "metadata": {
        "id": "V6CvmYewgvDt"
      },
      "source": [
        "## Code"
      ]
    },
    {
      "cell_type": "code",
      "metadata": {
        "id": "GCWLe7HvsuqE"
      },
      "source": [
        "\n",
        "# Create a helper function\n",
        "import datetime\n",
        "\n",
        "def convert_string_to_ordinal(i, f = \"%b %d %Y\"):\n",
        "  #Take out date components from string\n",
        "  i_month_date = i.split()[1:3]\n",
        "  i_year = [i.split()[-1]]\n",
        "\n",
        "  #Convert to a more understandable string\n",
        "  i_parse = \" \".join( i_month_date + i_year)\n",
        "\n",
        "  #Convert to datetime\n",
        "  i_datetime = datetime.datetime.strptime(i_parse, f)\n",
        "  return i_datetime.toordinal()\n"
      ],
      "execution_count": null,
      "outputs": []
    },
    {
      "cell_type": "code",
      "metadata": {
        "id": "Q9IeuhtjarUO"
      },
      "source": [
        "# Copy certain columns and fill in empty values\n",
        "time_data = replace_missing_values(raw_data.loc[:,[\"UCity\", \"createdOn\", \"atvType\"]])\n",
        "\n",
        "#OneHotEncode atvType column\n",
        "\n",
        "feature='atvType'\n",
        "#Change the data type of the column to categorical\n",
        "time_data[feature] = pd.Categorical(time_data[feature])\n",
        "#Create dummy variables\n",
        "dummies = pd.get_dummies(time_data[feature], prefix = feature)\n",
        "#Add dummy variables to dataframe\n",
        "time_data = pd.concat([time_data, dummies], axis=1)\n",
        "#Drop the categorical parameter\n",
        "time_data.drop([feature], axis=1, inplace=True)\n",
        "\n",
        "# Convert dates to ordinal dates ( number of days since the year zero) \n",
        "time_data['createdOn'] = [convert_string_to_ordinal(i) for i in time_data['createdOn']]"
      ],
      "execution_count": null,
      "outputs": []
    },
    {
      "cell_type": "code",
      "metadata": {
        "id": "EyEFt5lxj_R5",
        "colab": {
          "base_uri": "https://localhost:8080/",
          "height": 243
        },
        "outputId": "ea4fefd1-943f-4d8e-fdd4-18c8dccc01d5"
      },
      "source": [
        "time_data.head()"
      ],
      "execution_count": null,
      "outputs": [
        {
          "output_type": "execute_result",
          "data": {
            "text/html": [
              "<div>\n",
              "<style scoped>\n",
              "    .dataframe tbody tr th:only-of-type {\n",
              "        vertical-align: middle;\n",
              "    }\n",
              "\n",
              "    .dataframe tbody tr th {\n",
              "        vertical-align: top;\n",
              "    }\n",
              "\n",
              "    .dataframe thead th {\n",
              "        text-align: right;\n",
              "    }\n",
              "</style>\n",
              "<table border=\"1\" class=\"dataframe\">\n",
              "  <thead>\n",
              "    <tr style=\"text-align: right;\">\n",
              "      <th></th>\n",
              "      <th>UCity</th>\n",
              "      <th>createdOn</th>\n",
              "      <th>atvType_Bifuel (CNG)</th>\n",
              "      <th>atvType_Bifuel (LPG)</th>\n",
              "      <th>atvType_CNG</th>\n",
              "      <th>atvType_Diesel</th>\n",
              "      <th>atvType_EV</th>\n",
              "      <th>atvType_FFV</th>\n",
              "      <th>atvType_Hybrid</th>\n",
              "      <th>atvType_Plug-in Hybrid</th>\n",
              "      <th>atvType_gasoline</th>\n",
              "    </tr>\n",
              "  </thead>\n",
              "  <tbody>\n",
              "    <tr>\n",
              "      <th>0</th>\n",
              "      <td>23.3333</td>\n",
              "      <td>734869</td>\n",
              "      <td>0</td>\n",
              "      <td>0</td>\n",
              "      <td>0</td>\n",
              "      <td>0</td>\n",
              "      <td>0</td>\n",
              "      <td>0</td>\n",
              "      <td>0</td>\n",
              "      <td>0</td>\n",
              "      <td>1</td>\n",
              "    </tr>\n",
              "    <tr>\n",
              "      <th>1</th>\n",
              "      <td>11.0000</td>\n",
              "      <td>734869</td>\n",
              "      <td>0</td>\n",
              "      <td>0</td>\n",
              "      <td>0</td>\n",
              "      <td>0</td>\n",
              "      <td>0</td>\n",
              "      <td>0</td>\n",
              "      <td>0</td>\n",
              "      <td>0</td>\n",
              "      <td>1</td>\n",
              "    </tr>\n",
              "    <tr>\n",
              "      <th>2</th>\n",
              "      <td>29.0000</td>\n",
              "      <td>734869</td>\n",
              "      <td>0</td>\n",
              "      <td>0</td>\n",
              "      <td>0</td>\n",
              "      <td>0</td>\n",
              "      <td>0</td>\n",
              "      <td>0</td>\n",
              "      <td>0</td>\n",
              "      <td>0</td>\n",
              "      <td>1</td>\n",
              "    </tr>\n",
              "    <tr>\n",
              "      <th>3</th>\n",
              "      <td>12.2222</td>\n",
              "      <td>734869</td>\n",
              "      <td>0</td>\n",
              "      <td>0</td>\n",
              "      <td>0</td>\n",
              "      <td>0</td>\n",
              "      <td>0</td>\n",
              "      <td>0</td>\n",
              "      <td>0</td>\n",
              "      <td>0</td>\n",
              "      <td>1</td>\n",
              "    </tr>\n",
              "    <tr>\n",
              "      <th>4</th>\n",
              "      <td>21.0000</td>\n",
              "      <td>734869</td>\n",
              "      <td>0</td>\n",
              "      <td>0</td>\n",
              "      <td>0</td>\n",
              "      <td>0</td>\n",
              "      <td>0</td>\n",
              "      <td>0</td>\n",
              "      <td>0</td>\n",
              "      <td>0</td>\n",
              "      <td>1</td>\n",
              "    </tr>\n",
              "  </tbody>\n",
              "</table>\n",
              "</div>"
            ],
            "text/plain": [
              "     UCity  createdOn  ...  atvType_Plug-in Hybrid  atvType_gasoline\n",
              "0  23.3333     734869  ...                       0                 1\n",
              "1  11.0000     734869  ...                       0                 1\n",
              "2  29.0000     734869  ...                       0                 1\n",
              "3  12.2222     734869  ...                       0                 1\n",
              "4  21.0000     734869  ...                       0                 1\n",
              "\n",
              "[5 rows x 11 columns]"
            ]
          },
          "metadata": {
            "tags": []
          },
          "execution_count": 34
        }
      ]
    },
    {
      "cell_type": "code",
      "metadata": {
        "id": "kjJajzq-8T1Y"
      },
      "source": [
        "# Find the average fuel of all the models registered for each date\n",
        "UCity_mean = [];\n",
        "# Loop through each unique day\n",
        "for d in time_data.loc[:, \"createdOn\"].unique():\n",
        "  #Find all of the entries created on d\n",
        "  this_day = time_data[ time_data[\"createdOn\"] == d].loc[:, [\"createdOn\"]]\n",
        "\n",
        "  # Make the location of that day in time_data a seperate column\n",
        "  this_day.reset_index(level=0, inplace=True)\n",
        "\n",
        "  ind = this_day.loc[:,'index']\n",
        "  UCity_mean += [time_data.loc[ind,\"UCity\"].mean()]\n",
        "\n",
        "UCity_mean = pd.DataFrame({\"createdOn\":list(time_data.loc[:, \"createdOn\"].unique()), \"UCity_mean\":UCity_mean})"
      ],
      "execution_count": null,
      "outputs": []
    },
    {
      "cell_type": "code",
      "metadata": {
        "id": "m43kzL45KuL3",
        "colab": {
          "base_uri": "https://localhost:8080/",
          "height": 206
        },
        "outputId": "841eb5d2-7d11-49ee-d1cc-cc2f1648a72f"
      },
      "source": [
        "UCity_mean.head()"
      ],
      "execution_count": null,
      "outputs": [
        {
          "output_type": "execute_result",
          "data": {
            "text/html": [
              "<div>\n",
              "<style scoped>\n",
              "    .dataframe tbody tr th:only-of-type {\n",
              "        vertical-align: middle;\n",
              "    }\n",
              "\n",
              "    .dataframe tbody tr th {\n",
              "        vertical-align: top;\n",
              "    }\n",
              "\n",
              "    .dataframe thead th {\n",
              "        text-align: right;\n",
              "    }\n",
              "</style>\n",
              "<table border=\"1\" class=\"dataframe\">\n",
              "  <thead>\n",
              "    <tr style=\"text-align: right;\">\n",
              "      <th></th>\n",
              "      <th>createdOn</th>\n",
              "      <th>UCity_mean</th>\n",
              "    </tr>\n",
              "  </thead>\n",
              "  <tbody>\n",
              "    <tr>\n",
              "      <th>0</th>\n",
              "      <td>734869</td>\n",
              "      <td>21.995809</td>\n",
              "    </tr>\n",
              "    <tr>\n",
              "      <th>1</th>\n",
              "      <td>735170</td>\n",
              "      <td>21.341197</td>\n",
              "    </tr>\n",
              "    <tr>\n",
              "      <th>2</th>\n",
              "      <td>735176</td>\n",
              "      <td>28.976108</td>\n",
              "    </tr>\n",
              "    <tr>\n",
              "      <th>3</th>\n",
              "      <td>735179</td>\n",
              "      <td>31.914500</td>\n",
              "    </tr>\n",
              "    <tr>\n",
              "      <th>4</th>\n",
              "      <td>735191</td>\n",
              "      <td>23.099914</td>\n",
              "    </tr>\n",
              "  </tbody>\n",
              "</table>\n",
              "</div>"
            ],
            "text/plain": [
              "   createdOn  UCity_mean\n",
              "0     734869   21.995809\n",
              "1     735170   21.341197\n",
              "2     735176   28.976108\n",
              "3     735179   31.914500\n",
              "4     735191   23.099914"
            ]
          },
          "metadata": {
            "tags": []
          },
          "execution_count": 36
        }
      ]
    },
    {
      "cell_type": "code",
      "metadata": {
        "id": "jWwN7KIKQBFI",
        "colab": {
          "base_uri": "https://localhost:8080/",
          "height": 296
        },
        "outputId": "2bfee781-3a33-4753-8795-4ac19105639e"
      },
      "source": [
        "#Graph the  as a function of time\n",
        "fig, ax = plt.subplots()  # Create a figure containing a single axes.\n",
        "# len(UCity_mean) == len(time_data.loc[:, \"createdOn\"].unique())\n",
        "ax.plot(time_data.loc[:, \"createdOn\"].unique(), UCity_mean.loc[:,\"UCity_mean\"])\n",
        "ax.set_xlabel('date')\n",
        "ax.set_ylabel('fuel economy')\n",
        "# This graph is focused to much on the small spikes, we need the overall trend"
      ],
      "execution_count": null,
      "outputs": [
        {
          "output_type": "execute_result",
          "data": {
            "text/plain": [
              "Text(0, 0.5, 'fuel economy')"
            ]
          },
          "metadata": {
            "tags": []
          },
          "execution_count": 37
        },
        {
          "output_type": "display_data",
          "data": {
            "image/png": "[encoded data removed]",
            "text/plain": [
              "<Figure size 432x288 with 1 Axes>"
            ]
          },
          "metadata": {
            "tags": [],
            "needs_background": "light"
          }
        }
      ]
    },
    {
      "cell_type": "code",
      "metadata": {
        "id": "ULuRML2gSXyb"
      },
      "source": [
        "# Get the average fuel economy for each year\n",
        "unq = time_data.loc[:, \"createdOn\"].unique()\n",
        "UCity_mean_year = []\n",
        "first_day_year = []\n",
        "#L\n",
        "for y in range(min(unq), max(unq), 365):\n",
        "  #Find all of the entries created in between this year and the next\n",
        "  this_year = UCity_mean[ (y <= UCity_mean['createdOn']) &  (UCity_mean['createdOn'] < y+365)].iloc[:, [1]]\n",
        "  this_year\n",
        "  # Make the location of that year in time_data a seperate column\n",
        "  this_year.reset_index(level=0, inplace=True)\n",
        "\n",
        "  ind = this_year.loc[:,'index']\n",
        "  UCity_mean_year += [UCity_mean.loc[ind,\"UCity_mean\"].mean()]\n",
        "  first_day_year += [y]\n",
        "\n",
        "first_day_year = [ int((datetime.date.fromordinal(year)).year) for year in first_day_year]\n",
        "UCity_mean_year = pd.DataFrame({'createdOn':first_day_year, 'UCity_mean': UCity_mean_year})\n"
      ],
      "execution_count": null,
      "outputs": []
    },
    {
      "cell_type": "code",
      "metadata": {
        "id": "JQ4wpeBPUdur",
        "colab": {
          "base_uri": "https://localhost:8080/",
          "height": 300
        },
        "outputId": "1b3341cb-449a-45dc-8225-e2da27d5d8e7"
      },
      "source": [
        "UCity_mean_year"
      ],
      "execution_count": null,
      "outputs": [
        {
          "output_type": "execute_result",
          "data": {
            "text/html": [
              "<div>\n",
              "<style scoped>\n",
              "    .dataframe tbody tr th:only-of-type {\n",
              "        vertical-align: middle;\n",
              "    }\n",
              "\n",
              "    .dataframe tbody tr th {\n",
              "        vertical-align: top;\n",
              "    }\n",
              "\n",
              "    .dataframe thead th {\n",
              "        text-align: right;\n",
              "    }\n",
              "</style>\n",
              "<table border=\"1\" class=\"dataframe\">\n",
              "  <thead>\n",
              "    <tr style=\"text-align: right;\">\n",
              "      <th></th>\n",
              "      <th>createdOn</th>\n",
              "      <th>UCity_mean</th>\n",
              "    </tr>\n",
              "  </thead>\n",
              "  <tbody>\n",
              "    <tr>\n",
              "      <th>0</th>\n",
              "      <td>2013</td>\n",
              "      <td>26.283478</td>\n",
              "    </tr>\n",
              "    <tr>\n",
              "      <th>1</th>\n",
              "      <td>2014</td>\n",
              "      <td>34.847082</td>\n",
              "    </tr>\n",
              "    <tr>\n",
              "      <th>2</th>\n",
              "      <td>2015</td>\n",
              "      <td>33.111146</td>\n",
              "    </tr>\n",
              "    <tr>\n",
              "      <th>3</th>\n",
              "      <td>2016</td>\n",
              "      <td>37.318872</td>\n",
              "    </tr>\n",
              "    <tr>\n",
              "      <th>4</th>\n",
              "      <td>2016</td>\n",
              "      <td>32.239279</td>\n",
              "    </tr>\n",
              "    <tr>\n",
              "      <th>5</th>\n",
              "      <td>2017</td>\n",
              "      <td>36.507269</td>\n",
              "    </tr>\n",
              "    <tr>\n",
              "      <th>6</th>\n",
              "      <td>2018</td>\n",
              "      <td>30.787632</td>\n",
              "    </tr>\n",
              "    <tr>\n",
              "      <th>7</th>\n",
              "      <td>2019</td>\n",
              "      <td>34.363759</td>\n",
              "    </tr>\n",
              "  </tbody>\n",
              "</table>\n",
              "</div>"
            ],
            "text/plain": [
              "   createdOn  UCity_mean\n",
              "0       2013   26.283478\n",
              "1       2014   34.847082\n",
              "2       2015   33.111146\n",
              "3       2016   37.318872\n",
              "4       2016   32.239279\n",
              "5       2017   36.507269\n",
              "6       2018   30.787632\n",
              "7       2019   34.363759"
            ]
          },
          "metadata": {
            "tags": []
          },
          "execution_count": 39
        }
      ]
    },
    {
      "cell_type": "code",
      "metadata": {
        "id": "suM2dPfU-Rge",
        "colab": {
          "base_uri": "https://localhost:8080/",
          "height": 34
        },
        "outputId": "ab88a7cb-0523-4e0f-86f1-996ae20efa6f"
      },
      "source": [
        "# Gas mileage increased by 9.15%\n",
        "per = UCity_mean_year.loc[len(UCity_mean_year)-1,'UCity_mean'] - UCity_mean_year.loc[0,'UCity_mean']\n",
        "print(\"City gas mileage changed by \"+ str(per.round()) + \"%\")"
      ],
      "execution_count": null,
      "outputs": [
        {
          "output_type": "stream",
          "text": [
            "City gas mileage changed by 8.0%\n"
          ],
          "name": "stdout"
        }
      ]
    },
    {
      "cell_type": "code",
      "metadata": {
        "id": "DWMgGiFbU7xy",
        "colab": {
          "base_uri": "https://localhost:8080/",
          "height": 296
        },
        "outputId": "cc3ff823-431d-4a66-b594-5b0f6c0a325d"
      },
      "source": [
        "fig, ax = plt.subplots()  # Create a figure containing a single axes.\n",
        "\n",
        "# len(avg) == len(time_data.loc[:, \"createdOn\"].unique())\n",
        "\n",
        "# ax.plot(?[ int((datetime.date.fromordinal(year)).year) for year in years], avg_year)\n",
        "ax.plot(UCity_mean_year[\"createdOn\"], UCity_mean_year[\"UCity_mean\"])\n",
        "ax.set_xlabel('Year')\n",
        "ax.set_ylabel('Average fuel economy(MPG)')\n",
        "# avg\n",
        "\n",
        "# From this graph we can see that fuel economy increased over time"
      ],
      "execution_count": null,
      "outputs": [
        {
          "output_type": "execute_result",
          "data": {
            "text/plain": [
              "Text(0, 0.5, 'Average fuel economy(MPG)')"
            ]
          },
          "metadata": {
            "tags": []
          },
          "execution_count": 41
        },
        {
          "output_type": "display_data",
          "data": {
            "image/png": "[encoded data removed]",
            "text/plain": [
              "<Figure size 432x288 with 1 Axes>"
            ]
          },
          "metadata": {
            "tags": [],
            "needs_background": "light"
          }
        }
      ]
    },
    {
      "cell_type": "code",
      "metadata": {
        "id": "hHnVnUIiZ1zI"
      },
      "source": [
        "# Find the percent of gasoline vehicles docs\n",
        "gasoline_percent = []\n",
        "for d in time_data.loc[:, \"createdOn\"].unique():\n",
        "  #Find all of the entries created on d\n",
        "  this_day = time_data[ time_data[\"createdOn\"] == d].loc[:, [\"createdOn\"]]\n",
        "  # this_day\n",
        "  this_day.reset_index(level=0, inplace=True)\n",
        "  ind = this_day.loc[:,'index']\n",
        "  gasoline_percent += [time_data.loc[ind,\"atvType_gasoline\"].mean()]\n",
        "\n",
        "gasoline_percent = pd.DataFrame({'createdOn':time_data.loc[:, \"createdOn\"].unique(), 'gasoline_percent': gasoline_percent})\n",
        "# gasoline_percent = gasoline_percent.T\n",
        "\n"
      ],
      "execution_count": null,
      "outputs": []
    },
    {
      "cell_type": "code",
      "metadata": {
        "id": "IIdxtIYESQuh",
        "colab": {
          "base_uri": "https://localhost:8080/",
          "height": 206
        },
        "outputId": "adf486f0-bd37-4f66-e6c7-d693cee01bc6"
      },
      "source": [
        "gasoline_percent.head()"
      ],
      "execution_count": null,
      "outputs": [
        {
          "output_type": "execute_result",
          "data": {
            "text/html": [
              "<div>\n",
              "<style scoped>\n",
              "    .dataframe tbody tr th:only-of-type {\n",
              "        vertical-align: middle;\n",
              "    }\n",
              "\n",
              "    .dataframe tbody tr th {\n",
              "        vertical-align: top;\n",
              "    }\n",
              "\n",
              "    .dataframe thead th {\n",
              "        text-align: right;\n",
              "    }\n",
              "</style>\n",
              "<table border=\"1\" class=\"dataframe\">\n",
              "  <thead>\n",
              "    <tr style=\"text-align: right;\">\n",
              "      <th></th>\n",
              "      <th>createdOn</th>\n",
              "      <th>gasoline_percent</th>\n",
              "    </tr>\n",
              "  </thead>\n",
              "  <tbody>\n",
              "    <tr>\n",
              "      <th>0</th>\n",
              "      <td>734869</td>\n",
              "      <td>0.926265</td>\n",
              "    </tr>\n",
              "    <tr>\n",
              "      <th>1</th>\n",
              "      <td>735170</td>\n",
              "      <td>0.586207</td>\n",
              "    </tr>\n",
              "    <tr>\n",
              "      <th>2</th>\n",
              "      <td>735176</td>\n",
              "      <td>0.840000</td>\n",
              "    </tr>\n",
              "    <tr>\n",
              "      <th>3</th>\n",
              "      <td>735179</td>\n",
              "      <td>1.000000</td>\n",
              "    </tr>\n",
              "    <tr>\n",
              "      <th>4</th>\n",
              "      <td>735191</td>\n",
              "      <td>1.000000</td>\n",
              "    </tr>\n",
              "  </tbody>\n",
              "</table>\n",
              "</div>"
            ],
            "text/plain": [
              "   createdOn  gasoline_percent\n",
              "0     734869          0.926265\n",
              "1     735170          0.586207\n",
              "2     735176          0.840000\n",
              "3     735179          1.000000\n",
              "4     735191          1.000000"
            ]
          },
          "metadata": {
            "tags": []
          },
          "execution_count": 43
        }
      ]
    },
    {
      "cell_type": "code",
      "metadata": {
        "id": "kqpZ6o5BaP9c"
      },
      "source": [
        "# Get the average number of gasoline vehicles\n",
        "unq = time_data.loc[:, \"createdOn\"].unique()\n",
        "gasoline_percent_year = []\n",
        "first_day_year = []\n",
        "#L\n",
        "for y in range(min(unq), max(unq), 365):\n",
        "  #Find all of the entries created in between this year and the next\n",
        "  this_year = gasoline_percent[ (y <= gasoline_percent['createdOn']) &  (gasoline_percent['createdOn'] < y+365)].iloc[:, [1]]\n",
        "\n",
        "  # Make the location of that year in time_data a seperate column\n",
        "  this_year.reset_index(level=0, inplace=True)\n",
        "\n",
        "  ind = this_year.loc[:,'index']\n",
        "  gasoline_percent_year += [gasoline_percent.loc[ind,\"gasoline_percent\"].mean()*100]\n",
        "  first_day_year += [y]\n",
        "\n",
        "\n",
        "year = [int((datetime.date.fromordinal(year)).year) for year in first_day_year]\n",
        "gasoline_percent_year = pd.DataFrame({'createdOn':year, 'gasoline_percent_year': gasoline_percent_year})\n",
        "\n",
        "\n"
      ],
      "execution_count": null,
      "outputs": []
    },
    {
      "cell_type": "code",
      "metadata": {
        "id": "dl30tK8wgE--",
        "colab": {
          "base_uri": "https://localhost:8080/",
          "height": 206
        },
        "outputId": "e3307263-ae6f-4855-fa6e-b50da73506a6"
      },
      "source": [
        "gasoline_percent_year.head()"
      ],
      "execution_count": null,
      "outputs": [
        {
          "output_type": "execute_result",
          "data": {
            "text/html": [
              "<div>\n",
              "<style scoped>\n",
              "    .dataframe tbody tr th:only-of-type {\n",
              "        vertical-align: middle;\n",
              "    }\n",
              "\n",
              "    .dataframe tbody tr th {\n",
              "        vertical-align: top;\n",
              "    }\n",
              "\n",
              "    .dataframe thead th {\n",
              "        text-align: right;\n",
              "    }\n",
              "</style>\n",
              "<table border=\"1\" class=\"dataframe\">\n",
              "  <thead>\n",
              "    <tr style=\"text-align: right;\">\n",
              "      <th></th>\n",
              "      <th>createdOn</th>\n",
              "      <th>gasoline_percent_year</th>\n",
              "    </tr>\n",
              "  </thead>\n",
              "  <tbody>\n",
              "    <tr>\n",
              "      <th>0</th>\n",
              "      <td>2013</td>\n",
              "      <td>87.899485</td>\n",
              "    </tr>\n",
              "    <tr>\n",
              "      <th>1</th>\n",
              "      <td>2014</td>\n",
              "      <td>72.836302</td>\n",
              "    </tr>\n",
              "    <tr>\n",
              "      <th>2</th>\n",
              "      <td>2015</td>\n",
              "      <td>80.809536</td>\n",
              "    </tr>\n",
              "    <tr>\n",
              "      <th>3</th>\n",
              "      <td>2016</td>\n",
              "      <td>75.436649</td>\n",
              "    </tr>\n",
              "    <tr>\n",
              "      <th>4</th>\n",
              "      <td>2016</td>\n",
              "      <td>85.178200</td>\n",
              "    </tr>\n",
              "  </tbody>\n",
              "</table>\n",
              "</div>"
            ],
            "text/plain": [
              "   createdOn  gasoline_percent_year\n",
              "0       2013              87.899485\n",
              "1       2014              72.836302\n",
              "2       2015              80.809536\n",
              "3       2016              75.436649\n",
              "4       2016              85.178200"
            ]
          },
          "metadata": {
            "tags": []
          },
          "execution_count": 45
        }
      ]
    },
    {
      "cell_type": "code",
      "metadata": {
        "id": "HczaquPHarEx",
        "colab": {
          "base_uri": "https://localhost:8080/",
          "height": 296
        },
        "outputId": "9854b3ec-3227-4af4-dab9-e2f97ed9509e"
      },
      "source": [
        "fig, ax = plt.subplots()  # Create a figure containing a single axes.\n",
        "\n",
        "# len(avg) == len(time_data.loc[:, \"createdOn\"].unique())\n",
        "\n",
        "# ax.plot([ int((datetime.date.fromordinal(year)).year) for year in years], avg_year)\n",
        "ax.plot(gasoline_percent_year[\"createdOn\"], gasoline_percent_year[\"gasoline_percent_year\"])\n",
        "ax.set_xlabel('Year')\n",
        "ax.set_ylabel('% vehicles using gasoline')\n",
        "# avg\n",
        "\n",
        "# From this graph we can see that fuel economy increased over time"
      ],
      "execution_count": null,
      "outputs": [
        {
          "output_type": "execute_result",
          "data": {
            "text/plain": [
              "Text(0, 0.5, '% vehicles using gasoline')"
            ]
          },
          "metadata": {
            "tags": []
          },
          "execution_count": 46
        },
        {
          "output_type": "display_data",
          "data": {
            "image/png": "[encoded data removed]",
            "text/plain": [
              "<Figure size 432x288 with 1 Axes>"
            ]
          },
          "metadata": {
            "tags": [],
            "needs_background": "light"
          }
        }
      ]
    },
    {
      "cell_type": "code",
      "metadata": {
        "id": "kz-8FNI9V3V-",
        "colab": {
          "base_uri": "https://localhost:8080/",
          "height": 34
        },
        "outputId": "5ab93b93-717a-4cb7-b258-27063dcfc6be"
      },
      "source": [
        "# Percentage of gasoline vehicles fell by 11.79%\n",
        "per = gasoline_percent_year.loc[len(gasoline_percent_year)-1,'gasoline_percent_year'] - gasoline_percent_year.loc[0,'gasoline_percent_year']\n",
        "print(\"The percent of vehicles that used gasoline as their only fuel type changed by \"+ str(per.round())+ \"%\")"
      ],
      "execution_count": null,
      "outputs": [
        {
          "output_type": "stream",
          "text": [
            "The percent of vehicles that used gasoline as their only fuel type changed by -15.0%\n"
          ],
          "name": "stdout"
        }
      ]
    },
    {
      "cell_type": "markdown",
      "metadata": {
        "id": "2aia7gCh1udI"
      },
      "source": [
        "### Correlation Analysis"
      ]
    },
    {
      "cell_type": "code",
      "metadata": {
        "id": "G2rp3dV7nghD",
        "colab": {
          "base_uri": "https://localhost:8080/",
          "height": 34
        },
        "outputId": "af921cc5-98a0-4e36-a81c-b7c962401404"
      },
      "source": [
        "# Convert 'guzzler' to a boolean expressing if they have to pay the gas-guzzler tax\n",
        "raw_data['guzzler'] = [ 1 if (a =='G' or a== 'T') else 0 for a in raw_data['guzzler'] ]\n",
        "raw_data['guzzler'].unique()"
      ],
      "execution_count": null,
      "outputs": [
        {
          "output_type": "execute_result",
          "data": {
            "text/plain": [
              "array([0, 1])"
            ]
          },
          "metadata": {
            "tags": []
          },
          "execution_count": 48
        }
      ]
    },
    {
      "cell_type": "code",
      "metadata": {
        "id": "Oy-cGDIP0h2b",
        "colab": {
          "base_uri": "https://localhost:8080/",
          "height": 175
        },
        "outputId": "60913b23-e138-415e-88af-82db5640c167"
      },
      "source": [
        "# Correlation analysis\n",
        "# Find the correlation between all of the parameters\n",
        "corr_data = raw_data.loc[:,['UCity', \"guzzler\",\"feScore\", \"ghgScore\"]]\n",
        "corr = corr_data.corr()\n",
        "# Keep the correlation between UCity and the other parameters and turn it into\n",
        "# a dictionary\n",
        "# corr = dict(corr.loc['UCity'])\n",
        "corr"
      ],
      "execution_count": null,
      "outputs": [
        {
          "output_type": "execute_result",
          "data": {
            "text/html": [
              "<div>\n",
              "<style scoped>\n",
              "    .dataframe tbody tr th:only-of-type {\n",
              "        vertical-align: middle;\n",
              "    }\n",
              "\n",
              "    .dataframe tbody tr th {\n",
              "        vertical-align: top;\n",
              "    }\n",
              "\n",
              "    .dataframe thead th {\n",
              "        text-align: right;\n",
              "    }\n",
              "</style>\n",
              "<table border=\"1\" class=\"dataframe\">\n",
              "  <thead>\n",
              "    <tr style=\"text-align: right;\">\n",
              "      <th></th>\n",
              "      <th>UCity</th>\n",
              "      <th>guzzler</th>\n",
              "      <th>feScore</th>\n",
              "      <th>ghgScore</th>\n",
              "    </tr>\n",
              "  </thead>\n",
              "  <tbody>\n",
              "    <tr>\n",
              "      <th>UCity</th>\n",
              "      <td>1.000000</td>\n",
              "      <td>-0.174867</td>\n",
              "      <td>0.430198</td>\n",
              "      <td>0.429432</td>\n",
              "    </tr>\n",
              "    <tr>\n",
              "      <th>guzzler</th>\n",
              "      <td>-0.174867</td>\n",
              "      <td>1.000000</td>\n",
              "      <td>-0.062185</td>\n",
              "      <td>-0.062097</td>\n",
              "    </tr>\n",
              "    <tr>\n",
              "      <th>feScore</th>\n",
              "      <td>0.430198</td>\n",
              "      <td>-0.062185</td>\n",
              "      <td>1.000000</td>\n",
              "      <td>0.999096</td>\n",
              "    </tr>\n",
              "    <tr>\n",
              "      <th>ghgScore</th>\n",
              "      <td>0.429432</td>\n",
              "      <td>-0.062097</td>\n",
              "      <td>0.999096</td>\n",
              "      <td>1.000000</td>\n",
              "    </tr>\n",
              "  </tbody>\n",
              "</table>\n",
              "</div>"
            ],
            "text/plain": [
              "             UCity   guzzler   feScore  ghgScore\n",
              "UCity     1.000000 -0.174867  0.430198  0.429432\n",
              "guzzler  -0.174867  1.000000 -0.062185 -0.062097\n",
              "feScore   0.430198 -0.062185  1.000000  0.999096\n",
              "ghgScore  0.429432 -0.062097  0.999096  1.000000"
            ]
          },
          "metadata": {
            "tags": []
          },
          "execution_count": 49
        }
      ]
    },
    {
      "cell_type": "code",
      "metadata": {
        "id": "XgfcaqK5mNF1",
        "colab": {
          "base_uri": "https://localhost:8080/",
          "height": 991
        },
        "outputId": "3cfcec01-fd17-4c0b-f641-12985e447d65"
      },
      "source": [
        "# Put the coorelation in a dataframe\n",
        "# corr = pd.DataFrame(data=[max_val], columns=max_id)\n",
        "# plt.matshow(corr)\n",
        "f = plt.figure(figsize=(19, 15))\n",
        "plt.matshow(corr_data.corr(), fignum=f.number)\n",
        "plt.xticks(range(corr_data.shape[1]), corr_data.columns, fontsize=28, rotation=45)\n",
        "plt.yticks(range(corr_data.shape[1]), corr_data.columns, fontsize=28)\n",
        "cb = plt.colorbar()\n",
        "cb.ax.tick_params(labelsize=14)\n",
        "plt.show()"
      ],
      "execution_count": null,
      "outputs": [
        {
          "output_type": "display_data",
          "data": {
            "image/png": "[encoded data removed]",
            "text/plain": [
              "<Figure size 1368x1080 with 2 Axes>"
            ]
          },
          "metadata": {
            "tags": [],
            "needs_background": "light"
          }
        }
      ]
    },
    {
      "cell_type": "markdown",
      "metadata": {
        "id": "UbfeVA1mjYUv"
      },
      "source": [
        "Highly correlated with UCity:\n",
        "feScore, ghgScore\n",
        "Negatively correlated with UCity:\n",
        "guzzler"
      ]
    },
    {
      "cell_type": "markdown",
      "metadata": {
        "id": "BuN4R1kXbqtR"
      },
      "source": [
        "## Conclusion\n",
        "1. Fuel range increased with time\n",
        "  - 9% over the period of this data\n",
        "2. The percentage of alternative fuel vehicles increased\n",
        "  - Increased by 12%\n",
        "  - This could be one of the reasons that fuel economy is increasing with time\n",
        "  - The increasing popularity of alternative fuel vehicles is surprising\n",
        "  \n",
        "3. Government incentives and metrics:\n",
        "  - The fuel economy Score (feScore), and Greenhouse Gases Score (ghgScore) have a strong positively correlation and the guzzler tax has a weak negative correlation to UCity\n",
        "  - This means that these government programs are doing their job well\n",
        "  - The feScore, ghgScore and guzzler Tax should deter people from wasteful vehicles and encourage them to use efficient ones\n"
      ]
    }
  ]
}